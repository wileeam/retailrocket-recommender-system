{
 "cells": [
  {
   "cell_type": "markdown",
   "metadata": {},
   "source": [
    "## Recommender system"
   ]
  },
  {
   "cell_type": "markdown",
   "metadata": {},
   "source": [
    "Pong"
   ]
  },
  {
   "cell_type": "code",
   "execution_count": 23,
   "metadata": {},
   "outputs": [],
   "source": [
    "import bz2\n",
    "from datetime import datetime\n",
    "import logging\n",
    "import os\n",
    "import time\n",
    "import tqdm\n",
    "\n",
    "import numpy as np\n",
    "import scipy\n",
    "import scipy.sparse as sparse\n",
    "import seaborn as sns\n",
    "\n",
    "os.environ[\"MODIN_ENGINE\"] = \"ray\"  # Modin will be using the Ray engine\n",
    "# import pandas as pd\n",
    "import modin.pandas as pd\n",
    "\n",
    "import implicit\n",
    "# import lightfm\n",
    "import tensorflow as tf"
   ]
  },
  {
   "cell_type": "code",
   "execution_count": null,
   "metadata": {},
   "outputs": [],
   "source": [
    "%matplotlib inline\n",
    "random_seed = 12345\n",
    "tf.random.set_seed(random_seed)"
   ]
  },
  {
   "cell_type": "code",
   "execution_count": null,
   "metadata": {},
   "outputs": [],
   "source": [
    "print(\"Running TensorFlow {}\".format(tf.__version__))"
   ]
  },
  {
   "cell_type": "code",
   "execution_count": null,
   "metadata": {},
   "outputs": [],
   "source": [
    "# Some common variables\n",
    "DATA_DIR = os.path.join(os.getcwd(), 'data')\n",
    "\n",
    "EVENTS_FILENAME = 'events.csv'\n",
    "EVENTS_FILE_OPTIONS = {'visitorid': 'string',\n",
    "                       'itemid': 'string',\n",
    "                       'event': 'string',\n",
    "                       'transactionid': 'string'}\n",
    "CATEGORIES_FILENAME = 'category_tree.csv'\n",
    "CATEGORIES_FILE_OPTIONS = {'categoryid': 'string',\n",
    "                           'parentid': 'string'}\n",
    "ITEMS_PROPERTIES_FILENAME = ['item_properties_part1.csv',\n",
    "                             'item_properties_part2.csv']\n",
    "ITEMS_PROPERTIES_FILE_OPTIONS = {'itemid': 'string',\n",
    "                                 'property': 'string'}\n",
    "\n",
    "PREDICTION_USERS_FILENAME = 'predictions.csv'\n",
    "PREDICTION_FILE_OPTIONS = {'visitorid': 'string'}"
   ]
  },
  {
   "cell_type": "code",
   "execution_count": 103,
   "metadata": {},
   "outputs": [],
   "source": [
    "# Some helper functions\n",
    "def str_to_date(date, format='%Y-%m-%d'):\n",
    "    \"\"\"\n",
    "    Converts a string date in to its date type equivalent\n",
    "    \"\"\"\n",
    "    return datetime.strptime(date, format).date()\n",
    "\n",
    "def remap_list(source, init=0):\n",
    "    \"\"\"\n",
    "    Maps an input list of ids to a sequential list of integers.\n",
    "    Returns the mapping in either 'direction' for convenience\n",
    "    \"\"\"\n",
    "    \n",
    "    # Remove potential duplicates\n",
    "    source = list(dict.fromkeys(source))\n",
    "    \n",
    "    source_index = {}\n",
    "    index_source = {}\n",
    "    count = init\n",
    "    \n",
    "    for l in source:\n",
    "        source_index[l] = count\n",
    "        index_source[count] = l\n",
    "        count += 1\n",
    "\n",
    "    return source_index, index_source\n",
    "\n",
    "def load_file(filenames, options=None, bzip2=True):\n",
    "    \"\"\"\n",
    "    Loads the data contained in one or more files and returns it as a Pandas variable\n",
    "    \"\"\"\n",
    "    def read_bz2_as_pd(filepath, options=None):\n",
    "        with bz2.open(filepath, \"rt\") as f:\n",
    "            if options:\n",
    "                data = pd.read_csv(f, dtype=options)\n",
    "            else:\n",
    "                data = pd.read_csv(f)\n",
    "            \n",
    "        return data\n",
    "    \n",
    "    \n",
    "    if type(filenames) is not list:\n",
    "        filenames = [filenames]\n",
    "    \n",
    "    if bzip2:\n",
    "        filenames = [filename + '.bz2' if bzip2 else filename for filename in filenames]\n",
    "        df_files_array = (read_bz2_as_pd(os.path.join(DATA_DIR, filename), options) for filename in filenames)\n",
    "    else:\n",
    "        if options:\n",
    "            df_files_array = (pd.read_csv(os.path.join(DATA_DIR, filename), dtype=options) for filename in filenames)\n",
    "        else:\n",
    "            df_files_array = (pd.read_csv(os.path.join(DATA_DIR, filename)) for filename in filenames)\n",
    "\n",
    "    data = pd.concat(df_files_array, ignore_index=True)\n",
    "    \n",
    "    return data\n",
    "\n",
    "def save_recommendations(recommendations,\n",
    "                         filename,\n",
    "                         user_col='visitorid',\n",
    "                         item_col_prefix='item_',\n",
    "                         n=100):\n",
    "\n",
    "    col_names = [item_col_prefix + str(x) for x in range(n)]\n",
    "\n",
    "    data = pd.DataFrame.from_dict(recommendations, orient='index', columns=col_names)\n",
    "    data.index.names = [user_col]\n",
    "    data.reset_index(inplace=True)\n",
    "\n",
    "    data.to_csv(filename, index=False)"
   ]
  },
  {
   "cell_type": "code",
   "execution_count": 40,
   "metadata": {},
   "outputs": [],
   "source": [
    "# Load users to eventually predict on\n",
    "raw_prediction_users = load_file(PREDICTION_USERS_FILENAME, PREDICTION_FILE_OPTIONS, bzip2=False)"
   ]
  },
  {
   "cell_type": "code",
   "execution_count": 41,
   "metadata": {},
   "outputs": [
    {
     "data": {
      "text/html": [
       "<div>\n",
       "<style scoped>\n",
       "    .dataframe tbody tr th:only-of-type {\n",
       "        vertical-align: middle;\n",
       "    }\n",
       "\n",
       "    .dataframe tbody tr th {\n",
       "        vertical-align: top;\n",
       "    }\n",
       "\n",
       "    .dataframe thead th {\n",
       "        text-align: right;\n",
       "    }\n",
       "</style>\n",
       "<table border=\"1\" class=\"dataframe\">\n",
       "  <thead>\n",
       "    <tr style=\"text-align: right;\">\n",
       "      <th></th>\n",
       "      <th>visitorid</th>\n",
       "    </tr>\n",
       "  </thead>\n",
       "  <tbody>\n",
       "    <tr>\n",
       "      <th>0</th>\n",
       "      <td>593408</td>\n",
       "    </tr>\n",
       "    <tr>\n",
       "      <th>1</th>\n",
       "      <td>71998</td>\n",
       "    </tr>\n",
       "    <tr>\n",
       "      <th>2</th>\n",
       "      <td>1403739</td>\n",
       "    </tr>\n",
       "    <tr>\n",
       "      <th>3</th>\n",
       "      <td>693797</td>\n",
       "    </tr>\n",
       "    <tr>\n",
       "      <th>4</th>\n",
       "      <td>1244757</td>\n",
       "    </tr>\n",
       "  </tbody>\n",
       "</table>\n",
       "</div>"
      ],
      "text/plain": [
       "  visitorid\n",
       "0    593408\n",
       "1     71998\n",
       "2   1403739\n",
       "3    693797\n",
       "4   1244757"
      ]
     },
     "execution_count": 41,
     "metadata": {},
     "output_type": "execute_result"
    }
   ],
   "source": [
    "raw_prediction_users.head()"
   ]
  },
  {
   "cell_type": "code",
   "execution_count": 8,
   "metadata": {},
   "outputs": [
    {
     "name": "stdout",
     "output_type": "stream",
     "text": [
      "<class 'modin.pandas.dataframe.DataFrame'>\n",
      "RangeIndex: 174956 entries, 0 to 174955\n",
      "Data columns (total 1 columns):\n",
      " #   Column     Non-Null Count   Dtype \n",
      "---  ------     --------------   ----- \n",
      " 0   visitorid  174956 non-null  string\n",
      "dtypes: string(1)\n",
      "memory usage: 1.3 MB\n"
     ]
    },
    {
     "name": "stderr",
     "output_type": "stream",
     "text": [
      "UserWarning: `DataFrame.info` defaulting to pandas implementation.\n",
      "To request implementation, send an email to feature_requests@modin.org.\n",
      "UserWarning: Distributing <class 'pandas.core.frame.DataFrame'> object. This may take some time.\n"
     ]
    }
   ],
   "source": [
    "raw_prediction_users.info()"
   ]
  },
  {
   "cell_type": "code",
   "execution_count": 14,
   "metadata": {},
   "outputs": [
    {
     "name": "stderr",
     "output_type": "stream",
     "text": [
      "UserWarning: Parameters provided defaulting to pandas implementation.\n"
     ]
    }
   ],
   "source": [
    "# Load events\n",
    "raw_events = load_file(EVENTS_FILENAME, EVENTS_FILE_OPTIONS)        \n",
    "# Load categories\n",
    "raw_categories = load_file(CATEGORIES_FILENAME, CATEGORIES_FILE_OPTIONS)\n",
    "# Load items properties\n",
    "raw_items_properties = load_file(ITEMS_PROPERTIES_FILENAME, ITEMS_PROPERTIES_FILE_OPTIONS)"
   ]
  },
  {
   "cell_type": "code",
   "execution_count": 15,
   "metadata": {},
   "outputs": [
    {
     "name": "stderr",
     "output_type": "stream",
     "text": [
      "UserWarning: `Series.to_datetime` defaulting to pandas implementation.\n",
      "UserWarning: Distributing <class 'pandas.core.series.Series'> object. This may take some time.\n",
      "UserWarning: `Series.CombinedDatetimelikeProperties` defaulting to pandas implementation.\n"
     ]
    }
   ],
   "source": [
    "# Make timestamps readable where applicable\n",
    "raw_events.timestamp = pd.to_datetime(raw_events.timestamp,\n",
    "                                      unit='ms')\n",
    "raw_items_properties.timestamp = pd.to_datetime(raw_items_properties.timestamp,\n",
    "                                                unit='ms')\n",
    "\n",
    "# Transform timestamps and add them as a column\n",
    "raw_events['date'] = raw_events.timestamp.dt.date\n",
    "raw_items_properties['date'] = raw_items_properties.timestamp.dt.date"
   ]
  },
  {
   "cell_type": "code",
   "execution_count": 16,
   "metadata": {},
   "outputs": [
    {
     "data": {
      "text/html": [
       "<div>\n",
       "<style scoped>\n",
       "    .dataframe tbody tr th:only-of-type {\n",
       "        vertical-align: middle;\n",
       "    }\n",
       "\n",
       "    .dataframe tbody tr th {\n",
       "        vertical-align: top;\n",
       "    }\n",
       "\n",
       "    .dataframe thead th {\n",
       "        text-align: right;\n",
       "    }\n",
       "</style>\n",
       "<table border=\"1\" class=\"dataframe\">\n",
       "  <thead>\n",
       "    <tr style=\"text-align: right;\">\n",
       "      <th></th>\n",
       "      <th>timestamp</th>\n",
       "      <th>visitorid</th>\n",
       "      <th>event</th>\n",
       "      <th>itemid</th>\n",
       "      <th>transactionid</th>\n",
       "      <th>date</th>\n",
       "    </tr>\n",
       "  </thead>\n",
       "  <tbody>\n",
       "    <tr>\n",
       "      <th>0</th>\n",
       "      <td>2015-06-02 05:02:12.117</td>\n",
       "      <td>257597</td>\n",
       "      <td>view</td>\n",
       "      <td>355908</td>\n",
       "      <td>&lt;NA&gt;</td>\n",
       "      <td>2015-06-02</td>\n",
       "    </tr>\n",
       "    <tr>\n",
       "      <th>1</th>\n",
       "      <td>2015-06-02 05:50:14.164</td>\n",
       "      <td>992329</td>\n",
       "      <td>view</td>\n",
       "      <td>248676</td>\n",
       "      <td>&lt;NA&gt;</td>\n",
       "      <td>2015-06-02</td>\n",
       "    </tr>\n",
       "    <tr>\n",
       "      <th>2</th>\n",
       "      <td>2015-06-02 05:13:19.827</td>\n",
       "      <td>111016</td>\n",
       "      <td>view</td>\n",
       "      <td>318965</td>\n",
       "      <td>&lt;NA&gt;</td>\n",
       "      <td>2015-06-02</td>\n",
       "    </tr>\n",
       "    <tr>\n",
       "      <th>3</th>\n",
       "      <td>2015-06-02 05:12:35.914</td>\n",
       "      <td>483717</td>\n",
       "      <td>view</td>\n",
       "      <td>253185</td>\n",
       "      <td>&lt;NA&gt;</td>\n",
       "      <td>2015-06-02</td>\n",
       "    </tr>\n",
       "    <tr>\n",
       "      <th>4</th>\n",
       "      <td>2015-06-02 05:02:17.106</td>\n",
       "      <td>951259</td>\n",
       "      <td>view</td>\n",
       "      <td>367447</td>\n",
       "      <td>&lt;NA&gt;</td>\n",
       "      <td>2015-06-02</td>\n",
       "    </tr>\n",
       "  </tbody>\n",
       "</table>\n",
       "</div>"
      ],
      "text/plain": [
       "                timestamp visitorid event  itemid transactionid        date\n",
       "0 2015-06-02 05:02:12.117    257597  view  355908          <NA>  2015-06-02\n",
       "1 2015-06-02 05:50:14.164    992329  view  248676          <NA>  2015-06-02\n",
       "2 2015-06-02 05:13:19.827    111016  view  318965          <NA>  2015-06-02\n",
       "3 2015-06-02 05:12:35.914    483717  view  253185          <NA>  2015-06-02\n",
       "4 2015-06-02 05:02:17.106    951259  view  367447          <NA>  2015-06-02"
      ]
     },
     "execution_count": 16,
     "metadata": {},
     "output_type": "execute_result"
    }
   ],
   "source": [
    "raw_events.head()"
   ]
  },
  {
   "cell_type": "code",
   "execution_count": 17,
   "metadata": {},
   "outputs": [
    {
     "name": "stderr",
     "output_type": "stream",
     "text": [
      "UserWarning: `DataFrame.info` defaulting to pandas implementation.\n",
      "UserWarning: Distributing <class 'pandas.core.frame.DataFrame'> object. This may take some time.\n"
     ]
    },
    {
     "name": "stdout",
     "output_type": "stream",
     "text": [
      "<class 'modin.pandas.dataframe.DataFrame'>\n",
      "RangeIndex: 2756101 entries, 0 to 2756100\n",
      "Data columns (total 6 columns):\n",
      " #   Column         Dtype         \n",
      "---  ------         -----         \n",
      " 0   timestamp      datetime64[ns]\n",
      " 1   visitorid      string        \n",
      " 2   event          string        \n",
      " 3   itemid         string        \n",
      " 4   transactionid  string        \n",
      " 5   date           object        \n",
      "dtypes: datetime64[ns](1), object(1), string(4)\n",
      "memory usage: 126.2+ MB\n"
     ]
    }
   ],
   "source": [
    "raw_events.info()"
   ]
  },
  {
   "cell_type": "code",
   "execution_count": 18,
   "metadata": {},
   "outputs": [
    {
     "data": {
      "text/html": [
       "<div>\n",
       "<style scoped>\n",
       "    .dataframe tbody tr th:only-of-type {\n",
       "        vertical-align: middle;\n",
       "    }\n",
       "\n",
       "    .dataframe tbody tr th {\n",
       "        vertical-align: top;\n",
       "    }\n",
       "\n",
       "    .dataframe thead th {\n",
       "        text-align: right;\n",
       "    }\n",
       "</style>\n",
       "<table border=\"1\" class=\"dataframe\">\n",
       "  <thead>\n",
       "    <tr style=\"text-align: right;\">\n",
       "      <th></th>\n",
       "      <th>categoryid</th>\n",
       "      <th>parentid</th>\n",
       "    </tr>\n",
       "  </thead>\n",
       "  <tbody>\n",
       "    <tr>\n",
       "      <th>0</th>\n",
       "      <td>1016</td>\n",
       "      <td>213</td>\n",
       "    </tr>\n",
       "    <tr>\n",
       "      <th>1</th>\n",
       "      <td>809</td>\n",
       "      <td>169</td>\n",
       "    </tr>\n",
       "    <tr>\n",
       "      <th>2</th>\n",
       "      <td>570</td>\n",
       "      <td>9</td>\n",
       "    </tr>\n",
       "    <tr>\n",
       "      <th>3</th>\n",
       "      <td>1691</td>\n",
       "      <td>885</td>\n",
       "    </tr>\n",
       "    <tr>\n",
       "      <th>4</th>\n",
       "      <td>536</td>\n",
       "      <td>1691</td>\n",
       "    </tr>\n",
       "  </tbody>\n",
       "</table>\n",
       "</div>"
      ],
      "text/plain": [
       "  categoryid parentid\n",
       "0       1016      213\n",
       "1        809      169\n",
       "2        570        9\n",
       "3       1691      885\n",
       "4        536     1691"
      ]
     },
     "execution_count": 18,
     "metadata": {},
     "output_type": "execute_result"
    }
   ],
   "source": [
    "raw_categories.head()"
   ]
  },
  {
   "cell_type": "code",
   "execution_count": 19,
   "metadata": {},
   "outputs": [
    {
     "name": "stdout",
     "output_type": "stream",
     "text": [
      "<class 'modin.pandas.dataframe.DataFrame'>\n",
      "RangeIndex: 1669 entries, 0 to 1668\n",
      "Data columns (total 2 columns):\n",
      " #   Column      Non-Null Count  Dtype \n",
      "---  ------      --------------  ----- \n",
      " 0   categoryid  1669 non-null   string\n",
      " 1   parentid    1644 non-null   string\n",
      "dtypes: string(2)\n",
      "memory usage: 26.2 KB\n"
     ]
    },
    {
     "name": "stderr",
     "output_type": "stream",
     "text": [
      "UserWarning: `DataFrame.info` defaulting to pandas implementation.\n",
      "UserWarning: Distributing <class 'pandas.core.frame.DataFrame'> object. This may take some time.\n"
     ]
    }
   ],
   "source": [
    "raw_categories.info()"
   ]
  },
  {
   "cell_type": "code",
   "execution_count": 20,
   "metadata": {},
   "outputs": [
    {
     "data": {
      "text/html": [
       "<div>\n",
       "<style scoped>\n",
       "    .dataframe tbody tr th:only-of-type {\n",
       "        vertical-align: middle;\n",
       "    }\n",
       "\n",
       "    .dataframe tbody tr th {\n",
       "        vertical-align: top;\n",
       "    }\n",
       "\n",
       "    .dataframe thead th {\n",
       "        text-align: right;\n",
       "    }\n",
       "</style>\n",
       "<table border=\"1\" class=\"dataframe\">\n",
       "  <thead>\n",
       "    <tr style=\"text-align: right;\">\n",
       "      <th></th>\n",
       "      <th>timestamp</th>\n",
       "      <th>itemid</th>\n",
       "      <th>property</th>\n",
       "      <th>value</th>\n",
       "      <th>date</th>\n",
       "    </tr>\n",
       "  </thead>\n",
       "  <tbody>\n",
       "    <tr>\n",
       "      <th>0</th>\n",
       "      <td>2015-06-28 03:00:00</td>\n",
       "      <td>460429</td>\n",
       "      <td>categoryid</td>\n",
       "      <td>1338</td>\n",
       "      <td>2015-06-28</td>\n",
       "    </tr>\n",
       "    <tr>\n",
       "      <th>1</th>\n",
       "      <td>2015-09-06 03:00:00</td>\n",
       "      <td>206783</td>\n",
       "      <td>888</td>\n",
       "      <td>1116713 960601 n277.200</td>\n",
       "      <td>2015-09-06</td>\n",
       "    </tr>\n",
       "    <tr>\n",
       "      <th>2</th>\n",
       "      <td>2015-08-09 03:00:00</td>\n",
       "      <td>395014</td>\n",
       "      <td>400</td>\n",
       "      <td>n552.000 639502 n720.000 424566</td>\n",
       "      <td>2015-08-09</td>\n",
       "    </tr>\n",
       "    <tr>\n",
       "      <th>3</th>\n",
       "      <td>2015-05-10 03:00:00</td>\n",
       "      <td>59481</td>\n",
       "      <td>790</td>\n",
       "      <td>n15360.000</td>\n",
       "      <td>2015-05-10</td>\n",
       "    </tr>\n",
       "    <tr>\n",
       "      <th>4</th>\n",
       "      <td>2015-05-17 03:00:00</td>\n",
       "      <td>156781</td>\n",
       "      <td>917</td>\n",
       "      <td>828513</td>\n",
       "      <td>2015-05-17</td>\n",
       "    </tr>\n",
       "  </tbody>\n",
       "</table>\n",
       "</div>"
      ],
      "text/plain": [
       "            timestamp  itemid    property                            value  \\\n",
       "0 2015-06-28 03:00:00  460429  categoryid                             1338   \n",
       "1 2015-09-06 03:00:00  206783         888          1116713 960601 n277.200   \n",
       "2 2015-08-09 03:00:00  395014         400  n552.000 639502 n720.000 424566   \n",
       "3 2015-05-10 03:00:00   59481         790                       n15360.000   \n",
       "4 2015-05-17 03:00:00  156781         917                           828513   \n",
       "\n",
       "         date  \n",
       "0  2015-06-28  \n",
       "1  2015-09-06  \n",
       "2  2015-08-09  \n",
       "3  2015-05-10  \n",
       "4  2015-05-17  "
      ]
     },
     "execution_count": 20,
     "metadata": {},
     "output_type": "execute_result"
    }
   ],
   "source": [
    "raw_items_properties.head()"
   ]
  },
  {
   "cell_type": "code",
   "execution_count": 21,
   "metadata": {},
   "outputs": [
    {
     "name": "stderr",
     "output_type": "stream",
     "text": [
      "UserWarning: `DataFrame.info` defaulting to pandas implementation.\n",
      "UserWarning: Distributing <class 'pandas.core.frame.DataFrame'> object. This may take some time.\n"
     ]
    },
    {
     "name": "stdout",
     "output_type": "stream",
     "text": [
      "<class 'modin.pandas.dataframe.DataFrame'>\n",
      "RangeIndex: 20275902 entries, 0 to 20275901\n",
      "Data columns (total 5 columns):\n",
      " #   Column     Dtype         \n",
      "---  ------     -----         \n",
      " 0   timestamp  datetime64[ns]\n",
      " 1   itemid     string        \n",
      " 2   property   string        \n",
      " 3   value      object        \n",
      " 4   date       object        \n",
      "dtypes: datetime64[ns](1), object(2), string(2)\n",
      "memory usage: 773.5+ MB\n"
     ]
    }
   ],
   "source": [
    "raw_items_properties.info()"
   ]
  },
  {
   "cell_type": "code",
   "execution_count": 22,
   "metadata": {},
   "outputs": [
    {
     "name": "stderr",
     "output_type": "stream",
     "text": [
      "UserWarning: `Series.unique` defaulting to pandas implementation.\n"
     ]
    }
   ],
   "source": [
    "event_begin_timestamp = raw_events.timestamp.min()\n",
    "event_end_timestamp = raw_events.timestamp.max()\n",
    "\n",
    "num_users = raw_events.visitorid.nunique()\n",
    "num_items = raw_events.itemid.nunique()\n",
    "\n",
    "num_users_with_transactions = raw_events[raw_events.event == 'transaction'].visitorid.nunique()\n",
    "num_items_with_transactions = raw_events[raw_events.event == 'transaction'].itemid.nunique()\n",
    "\n",
    "item_lowest_price = raw_events[raw_events.event == 'transaction'].transactionid.min()\n",
    "item_highest_price = raw_events[raw_events.event == 'transaction'].transactionid.max()\n",
    "\n",
    "prediction_users = list(raw_prediction_users.visitorid.unique())"
   ]
  },
  {
   "cell_type": "markdown",
   "metadata": {},
   "source": [
    "### A naive recommender\n",
    "\n",
    "A naive recommender for an item X could be one that suggests a subset of all the items that other customers have bought together with item X.\n",
    "\n",
    "Such recommender doesn't take into account much more than the chances of items being bought together in the realm of a customer within a considered period.<br>\n",
    "On the bright side, the recommender is independent of the customer's behaviour (i.e., the suggestions are independent from the number of purchases) because it relies solely on the item-to-item \"relationships\"."
   ]
  },
  {
   "cell_type": "code",
   "execution_count": 24,
   "metadata": {},
   "outputs": [],
   "source": [
    "# Naive recommender\n",
    "# Suggest n random items of a set of all other items bought together with the queried one by all users\n",
    "# Supports other actions like adding to the cart or viewing an item\n",
    "def items_to_item(events,\n",
    "                  itemid,\n",
    "                  actions='transaction'):\n",
    "    # Customers who bought some specific itemid: event == 'transaction' && transactionid != NaN\n",
    "    # Otherwise (event == 'view' || event == 'addtocart') && transactionid == NaN)\n",
    "    \n",
    "    def visitors_to_item(events, itemid, actions):\n",
    "        filtered_events_per_itemid = events[(events.itemid == itemid)]\n",
    "\n",
    "        if type(actions) is not list:\n",
    "            actions = [actions]\n",
    "            \n",
    "        # Create empty pd.DataFrame WITH structure\n",
    "        #visitors = filtered_events_per_itemid.iloc[0:0,:].copy()\n",
    "        visitors = {}\n",
    "        \n",
    "        for a in actions:\n",
    "            if a == 'transaction':\n",
    "                filtered_events_per_event = filtered_events_per_itemid[(filtered_events_per_itemid.event == a) &\n",
    "                                                                       (filtered_events_per_itemid.transactionid.notna())]\n",
    "            else:\n",
    "                filtered_events_per_event = filtered_events_per_itemid[(filtered_events_per_itemid.event == a) &\n",
    "                                                                       (filtered_events_per_itemid.transactionid.isna())]\n",
    "\n",
    "            visitors[a] = list(filtered_events_per_event.visitorid.unique())\n",
    "\n",
    "        return visitors\n",
    "    \n",
    "    visitors_list_per_event = visitors_to_item(events, itemid, actions)\n",
    "\n",
    "    items_lists = []\n",
    "    for action, visitors_list in visitors_list_per_event.items():\n",
    "        filtered_events_by_action = events[(events.event == action)]\n",
    "        if action == 'transaction':\n",
    "            filtered_events_by_action = filtered_events_by_action[(filtered_events_by_action.transactionid.notna())]\n",
    "        else:\n",
    "            filtered_events_by_action = filtered_events_by_action[(filtered_events_by_action.transactionid.isna())]\n",
    "            \n",
    "        items_lists_per_transaction = [list(filtered_events_by_action[(filtered_events_by_action.visitorid == visitorid)].itemid.unique()) for visitorid in visitors_list]\n",
    "        items_lists += items_lists_per_transaction\n",
    "    \n",
    "    items = set().union(*items_lists)\n",
    "    return list(items)"
   ]
  },
  {
   "cell_type": "code",
   "execution_count": 25,
   "metadata": {},
   "outputs": [
    {
     "data": {
      "text/plain": [
       "['317178',\n",
       " '80582',\n",
       " '380775',\n",
       " '302422',\n",
       " '400969',\n",
       " '237753',\n",
       " '105792',\n",
       " '200793',\n",
       " '25353',\n",
       " '15335',\n",
       " '12836']"
      ]
     },
     "execution_count": 25,
     "metadata": {},
     "output_type": "execute_result"
    }
   ],
   "source": [
    "itemid = '200793'\n",
    "actions=['transaction', 'addtocart']\n",
    "filtered_events = raw_events[(raw_events.date < str_to_date('2015-09-01'))]\n",
    "\n",
    "recs = items_to_item(filtered_events, itemid, actions)\n",
    "recs"
   ]
  },
  {
   "cell_type": "markdown",
   "metadata": {},
   "source": [
    "### A collaborative filtering recommender\n",
    "\n",
    "Based in matrix factorization. For the interested ones in a summary: https://www.benfrederickson.com/matrix-factorization/ and improvements: https://www.benfrederickson.com/fast-implicit-matrix-factorization/"
   ]
  },
  {
   "cell_type": "code",
   "execution_count": 26,
   "metadata": {},
   "outputs": [],
   "source": [
    "filtered_events_by_date = raw_events[(raw_events.date < str_to_date('2015-09-01'))]\n",
    "filtered_events_by_action = filtered_events_by_date[(raw_events.event == 'transaction')]\n",
    "\n",
    "filtered_events = filtered_events_by_action[['visitorid', 'itemid', 'transactionid']]\n",
    "filtered_events.transactionid = filtered_events.transactionid.apply(lambda x: 1 if x else 0)"
   ]
  },
  {
   "cell_type": "code",
   "execution_count": null,
   "metadata": {},
   "outputs": [],
   "source": []
  },
  {
   "cell_type": "code",
   "execution_count": 27,
   "metadata": {},
   "outputs": [],
   "source": [
    "users_index_map, index_users_map = remap_list(list(filtered_events.visitorid.unique()))\n",
    "items_index_map, index_items_map = remap_list(list(filtered_events.itemid.unique()))"
   ]
  },
  {
   "cell_type": "code",
   "execution_count": 28,
   "metadata": {},
   "outputs": [],
   "source": [
    "def create_ratings_matrix(events,\n",
    "                          user_col='visitorid',\n",
    "                          item_col='itemid',\n",
    "                          rating_col='transactionid',\n",
    "                          user_index=None,\n",
    "                          item_index=None,\n",
    "                          mode='coo'):\n",
    "\n",
    "    num_users = events[user_col].nunique()\n",
    "    num_items = events[item_col].nunique()\n",
    "    \n",
    "    if user_index:\n",
    "        users_index_map = user_index\n",
    "    else:\n",
    "        users_index_map, index_users_map = remap_list(list(events[user_col].unique()))\n",
    "        \n",
    "    if item_index:\n",
    "        items_index_map = item_index\n",
    "    else:\n",
    "        items_index_map, index_items_map = remap_list(list(events[item_col].unique()))\n",
    "    \n",
    "    \n",
    "    if mode == 'dok':\n",
    "        ratings = sparse.dok_matrix((num_users, num_items), dtype=events[rating_col].dtype)\n",
    "        \n",
    "        for row in events.itertuples(index=False):\n",
    "            i = users_index_map[row[user_col]]\n",
    "            j = items_index_map[row[item_col]]\n",
    "            v = row[raing_col]\n",
    "    \n",
    "            ratings[i, j] = v\n",
    "    elif mode == 'coo':\n",
    "        i = events[user_col].apply(lambda x: users_index_map[x])\n",
    "        j = events[item_col].apply(lambda x: items_index_map[x])\n",
    "        data = events[rating_col].values\n",
    "\n",
    "        ratings = sparse.coo_matrix((data, (i, j)), shape=(num_users, num_items))\n",
    "    else:\n",
    "        raise(\"Nope\")\n",
    "\n",
    "    return ratings, users_index_map, items_index_map"
   ]
  },
  {
   "cell_type": "code",
   "execution_count": 104,
   "metadata": {},
   "outputs": [
    {
     "data": {
      "text/plain": [
       "(10500, 11016)"
      ]
     },
     "execution_count": 104,
     "metadata": {},
     "output_type": "execute_result"
    }
   ],
   "source": [
    "user_to_item_matrix, _, _ = create_ratings_matrix(filtered_events, user_index=users_index_map, item_index=items_index_map)\n",
    "user_to_item_matrix.shape"
   ]
  },
  {
   "cell_type": "code",
   "execution_count": 30,
   "metadata": {},
   "outputs": [
    {
     "name": "stderr",
     "output_type": "stream",
     "text": [
      "WARNING:root:OpenBLAS detected. Its highly recommend to set the environment variable 'export OPENBLAS_NUM_THREADS=1' to disable its internal multithreading\n"
     ]
    }
   ],
   "source": [
    "# Initialize the model(s)\n",
    "cf_als = implicit.als.AlternatingLeastSquares(factors=128,\n",
    "                                              regularization=1.5,\n",
    "                                              iterations=100,\n",
    "                                              calculate_training_loss=True)\n",
    "\n",
    "cf_bpr = implicit.bpr.BayesianPersonalizedRanking(factors=128,\n",
    "                                                  learning_rate=1.5,\n",
    "                                                  regularization=1,\n",
    "                                                  iterations=100,\n",
    "                                                  verify_negative_samples=True)\n",
    "\n",
    "cf_lmf = implicit.lmf.LogisticMatrixFactorization(factors=128,\n",
    "                                                  learning_rate=0.1,\n",
    "                                                  regularization=1.5,\n",
    "                                                  iterations=100)"
   ]
  },
  {
   "cell_type": "code",
   "execution_count": 31,
   "metadata": {},
   "outputs": [
    {
     "data": {
      "application/vnd.jupyter.widget-view+json": {
       "model_id": "347a1191ed374f73ad1196322131813f",
       "version_major": 2,
       "version_minor": 0
      },
      "text/plain": [
       "HBox(children=(FloatProgress(value=0.0), HTML(value='')))"
      ]
     },
     "metadata": {},
     "output_type": "display_data"
    },
    {
     "name": "stdout",
     "output_type": "stream",
     "text": [
      "\n"
     ]
    },
    {
     "data": {
      "application/vnd.jupyter.widget-view+json": {
       "model_id": "5a6cea262e0346ee8369afc536aaa065",
       "version_major": 2,
       "version_minor": 0
      },
      "text/plain": [
       "HBox(children=(FloatProgress(value=0.0), HTML(value='')))"
      ]
     },
     "metadata": {},
     "output_type": "display_data"
    },
    {
     "name": "stdout",
     "output_type": "stream",
     "text": [
      "\n"
     ]
    },
    {
     "data": {
      "application/vnd.jupyter.widget-view+json": {
       "model_id": "66b3b97a5164407db9d735d2558319c6",
       "version_major": 2,
       "version_minor": 0
      },
      "text/plain": [
       "HBox(children=(FloatProgress(value=0.0), HTML(value='')))"
      ]
     },
     "metadata": {},
     "output_type": "display_data"
    },
    {
     "name": "stdout",
     "output_type": "stream",
     "text": [
      "\n"
     ]
    }
   ],
   "source": [
    "# Train the model(s) on the transposed sparse matrix of user/item/[confidence|rating weights]\n",
    "item_to_user_matrix = user_to_item_matrix.T.tocsr()\n",
    "\n",
    "cf_als.fit(item_to_user_matrix, show_progress=True)\n",
    "cf_bpr.fit(item_to_user_matrix, show_progress=True)\n",
    "cf_lmf.fit(item_to_user_matrix, show_progress=True)"
   ]
  },
  {
   "cell_type": "code",
   "execution_count": 33,
   "metadata": {},
   "outputs": [],
   "source": [
    "# recommend items for a user\n",
    "user_index=4\n",
    "n=10\n",
    "recommendations = cf_als.recommend(userid=user_index,\n",
    "                                   user_items=user_to_item_matrix.tocsr(),\n",
    "                                   N=n,\n",
    "                                   filter_already_liked_items=True,\n",
    "                                   recalculate_user=True)    "
   ]
  },
  {
   "cell_type": "code",
   "execution_count": 46,
   "metadata": {},
   "outputs": [
    {
     "data": {
      "text/plain": [
       "0          593408\n",
       "1           71998\n",
       "2         1403739\n",
       "3          693797\n",
       "4         1244757\n",
       "           ...   \n",
       "174951     431273\n",
       "174952     126780\n",
       "174953    1215838\n",
       "174954    1001332\n",
       "174955     875420\n",
       "Name: visitorid, Length: 174956, dtype: string"
      ]
     },
     "execution_count": 46,
     "metadata": {},
     "output_type": "execute_result"
    }
   ],
   "source": [
    "prediction_users.visitorid"
   ]
  },
  {
   "cell_type": "code",
   "execution_count": 85,
   "metadata": {},
   "outputs": [],
   "source": [
    "def get_implicit_recommendations(users_to_recommend,\n",
    "                                 trained_model,\n",
    "                                 users_items_matrix,\n",
    "                                 users_index_map,\n",
    "                                 index_items_map,\n",
    "                                 user_col='visitorid',\n",
    "                                 n=100):\n",
    "\n",
    "    num_users_prediction = users_to_recommend[user_col].size\n",
    "    recommendations = {}\n",
    "    \n",
    "    start = time.time()\n",
    "    with tqdm.tqdm(total=num_users_prediction) as progress:\n",
    "        for _, user in enumerate(users_to_recommend[user_col]):\n",
    "            user_recommendations = list()\n",
    "        \n",
    "            if user in users_index_map.keys():\n",
    "                user_index = users_index_map[user]\n",
    "                user_item_index_recommendations = model.recommend(userid=user_index,\n",
    "                                                                  user_items=users_items_matrix.tocsr(),\n",
    "                                                                  N=n,\n",
    "                                                                  filter_already_liked_items=True,\n",
    "                                                                  recalculate_user=True)\n",
    "                user_item_index_recommendations_sorted = sorted(user_item_index_recommendations,\n",
    "                                                                key=lambda x: x[1],\n",
    "                                                                reverse=True)\n",
    "                user_recommendations = list(map(lambda item_index: index_items_map[item_index],\n",
    "                                            [t[0] for t in user_item_index_recommendations_ranked]))\n",
    "            recommendations[user] = user_recommendations\n",
    "        \n",
    "            progress.update(1)\n",
    "\n",
    "    return recommendations"
   ]
  },
  {
   "cell_type": "code",
   "execution_count": 86,
   "metadata": {},
   "outputs": [
    {
     "name": "stderr",
     "output_type": "stream",
     "text": [
      "100%|██████████| 174956/174956 [00:02<00:00, 58675.76it/s]\n"
     ]
    }
   ],
   "source": [
    "recommendations = get_implicit_recommendations(raw_prediction_users,\n",
    "                                               cf_als,\n",
    "                                               user_to_item_matrix,\n",
    "                                               users_index_map,\n",
    "                                               index_items_map,\n",
    "                                               n=100)"
   ]
  },
  {
   "cell_type": "code",
   "execution_count": 102,
   "metadata": {},
   "outputs": [
    {
     "name": "stderr",
     "output_type": "stream",
     "text": [
      "UserWarning: Distributing <class 'pandas.core.frame.DataFrame'> object. This may take some time.\n"
     ]
    }
   ],
   "source": [
    "write_recommendations(recommendations, \"pong.csv\")"
   ]
  },
  {
   "cell_type": "code",
   "execution_count": null,
   "metadata": {},
   "outputs": [],
   "source": [
    "filtered_events.groupby(['visitorid', 'itemid']).agg({'transactionid': ['count']})"
   ]
  },
  {
   "cell_type": "code",
   "execution_count": null,
   "metadata": {},
   "outputs": [],
   "source": [
    "2664312+22457+69332"
   ]
  }
 ],
 "metadata": {
  "kernelspec": {
   "display_name": "Python 3",
   "language": "python",
   "name": "python3"
  },
  "language_info": {
   "codemirror_mode": {
    "name": "ipython",
    "version": 3
   },
   "file_extension": ".py",
   "mimetype": "text/x-python",
   "name": "python",
   "nbconvert_exporter": "python",
   "pygments_lexer": "ipython3",
   "version": "3.7.7"
  }
 },
 "nbformat": 4,
 "nbformat_minor": 4
}
