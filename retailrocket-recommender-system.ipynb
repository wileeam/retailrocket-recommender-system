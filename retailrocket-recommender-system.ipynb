{
 "cells": [
  {
   "cell_type": "markdown",
   "metadata": {},
   "source": [
    "## Recommender engine for e-commerce "
   ]
  },
  {
   "cell_type": "markdown",
   "metadata": {},
   "source": [
    "Problem: create a recommender engine to suggest products to the users visiting an e-commerce site\n",
    "\n",
    "(Some) analysis:\n",
    "\n",
    "* The dataset consists of a collection of events (namely, 'view', 'addtocart' and 'transaction') describing the actions that visitors to the site carry out with the items offered. It is expected that visitors that buy items with the action 'transaction' have added such items to their cart beforehand 'addtocart' (they may or may have not visited them though)."
   ]
  },
  {
   "cell_type": "code",
   "execution_count": 1,
   "metadata": {},
   "outputs": [],
   "source": [
    "import bz2\n",
    "from datetime import datetime\n",
    "import logging\n",
    "import os\n",
    "import time\n",
    "import tqdm\n",
    "\n",
    "import numpy as np\n",
    "import scipy\n",
    "import scipy.sparse as sparse\n",
    "import seaborn as sns\n",
    "\n",
    "os.environ[\"MODIN_ENGINE\"] = \"ray\"  # Modin will be using the Ray engine\n",
    "# import pandas as pd\n",
    "import modin.pandas as pd\n",
    "\n",
    "import implicit\n",
    "# import lightfm\n",
    "import tensorflow as tf"
   ]
  },
  {
   "cell_type": "code",
   "execution_count": 2,
   "metadata": {},
   "outputs": [],
   "source": [
    "%matplotlib inline\n",
    "random_seed = 12345\n",
    "tf.random.set_seed(random_seed)"
   ]
  },
  {
   "cell_type": "code",
   "execution_count": 3,
   "metadata": {},
   "outputs": [
    {
     "name": "stdout",
     "output_type": "stream",
     "text": [
      "Running TensorFlow 2.2.0\n"
     ]
    }
   ],
   "source": [
    "print(\"Running TensorFlow {}\".format(tf.__version__))"
   ]
  },
  {
   "cell_type": "code",
   "execution_count": 4,
   "metadata": {},
   "outputs": [],
   "source": [
    "# Some common variables\n",
    "DATA_DIR = os.path.join(os.getcwd(), 'data')\n",
    "\n",
    "EVENTS_FILENAME = 'events.csv'\n",
    "EVENTS_FILE_OPTIONS = {'visitorid': 'string',\n",
    "                       'itemid': 'string',\n",
    "                       'event': 'string',\n",
    "                       'transactionid': 'string'}\n",
    "CATEGORIES_FILENAME = 'category_tree.csv'\n",
    "CATEGORIES_FILE_OPTIONS = {'categoryid': 'string',\n",
    "                           'parentid': 'string'}\n",
    "ITEMS_PROPERTIES_FILENAME = ['item_properties_part1.csv',\n",
    "                             'item_properties_part2.csv']\n",
    "ITEMS_PROPERTIES_FILE_OPTIONS = {'itemid': 'string',\n",
    "                                 'property': 'string'}\n",
    "\n",
    "PREDICTION_USERS_FILENAME = 'predictions.csv'\n",
    "PREDICTION_FILE_OPTIONS = {'visitorid': 'string'}"
   ]
  },
  {
   "cell_type": "code",
   "execution_count": 5,
   "metadata": {},
   "outputs": [],
   "source": [
    "# Some helper functions\n",
    "def str_to_date(date, format='%Y-%m-%d'):\n",
    "    \"\"\"\n",
    "    Converts a string date in to its date type equivalent\n",
    "    \"\"\"\n",
    "    return datetime.strptime(date, format).date()\n",
    "\n",
    "def remap_list(source, init=0):\n",
    "    \"\"\"\n",
    "    Maps an input list of ids to a sequential list of integers.\n",
    "    Returns the mapping in either 'direction' for convenience\n",
    "    \"\"\"\n",
    "    \n",
    "    # Remove potential duplicates\n",
    "    source = list(dict.fromkeys(source))\n",
    "    \n",
    "    source_index = {}\n",
    "    index_source = {}\n",
    "    count = init\n",
    "    \n",
    "    for l in source:\n",
    "        source_index[l] = count\n",
    "        index_source[count] = l\n",
    "        count += 1\n",
    "\n",
    "    return source_index, index_source\n",
    "\n",
    "def load_file(filenames, options=None, bzip2=True):\n",
    "    \"\"\"\n",
    "    Loads the data contained in one or more files and returns it as a Pandas variable\n",
    "    \"\"\"\n",
    "    def read_bz2_as_pd(filepath, options=None):\n",
    "        with bz2.open(filepath, \"rt\") as f:\n",
    "            if options:\n",
    "                data = pd.read_csv(f, dtype=options)\n",
    "            else:\n",
    "                data = pd.read_csv(f)\n",
    "            \n",
    "        return data\n",
    "    \n",
    "    \n",
    "    if type(filenames) is not list:\n",
    "        filenames = [filenames]\n",
    "    \n",
    "    if bzip2:\n",
    "        filenames = [filename + '.bz2' if bzip2 else filename for filename in filenames]\n",
    "        df_files_array = (read_bz2_as_pd(os.path.join(DATA_DIR, filename), options) for filename in filenames)\n",
    "    else:\n",
    "        if options:\n",
    "            df_files_array = (pd.read_csv(os.path.join(DATA_DIR, filename), dtype=options) for filename in filenames)\n",
    "        else:\n",
    "            df_files_array = (pd.read_csv(os.path.join(DATA_DIR, filename)) for filename in filenames)\n",
    "\n",
    "    data = pd.concat(df_files_array, ignore_index=True)\n",
    "    \n",
    "    return data\n",
    "\n",
    "def save_recommendations(recommendations,\n",
    "                         filename,\n",
    "                         user_col='visitorid',\n",
    "                         item_col_prefix='item_',\n",
    "                         n=100):\n",
    "\n",
    "    col_names = [item_col_prefix + str(x) for x in range(n)]\n",
    "\n",
    "    data = pd.DataFrame.from_dict(recommendations, orient='index', columns=col_names)\n",
    "    data.index.names = [user_col]\n",
    "    data.reset_index(inplace=True)\n",
    "\n",
    "    data.to_csv(filename, index=False)"
   ]
  },
  {
   "cell_type": "code",
   "execution_count": 6,
   "metadata": {},
   "outputs": [],
   "source": [
    "# Load users to eventually predict on\n",
    "raw_prediction_users = load_file(PREDICTION_USERS_FILENAME, PREDICTION_FILE_OPTIONS, bzip2=False)"
   ]
  },
  {
   "cell_type": "code",
   "execution_count": 7,
   "metadata": {},
   "outputs": [
    {
     "data": {
      "text/html": [
       "<div>\n",
       "<style scoped>\n",
       "    .dataframe tbody tr th:only-of-type {\n",
       "        vertical-align: middle;\n",
       "    }\n",
       "\n",
       "    .dataframe tbody tr th {\n",
       "        vertical-align: top;\n",
       "    }\n",
       "\n",
       "    .dataframe thead th {\n",
       "        text-align: right;\n",
       "    }\n",
       "</style>\n",
       "<table border=\"1\" class=\"dataframe\">\n",
       "  <thead>\n",
       "    <tr style=\"text-align: right;\">\n",
       "      <th></th>\n",
       "      <th>visitorid</th>\n",
       "    </tr>\n",
       "  </thead>\n",
       "  <tbody>\n",
       "    <tr>\n",
       "      <th>0</th>\n",
       "      <td>593408</td>\n",
       "    </tr>\n",
       "    <tr>\n",
       "      <th>1</th>\n",
       "      <td>71998</td>\n",
       "    </tr>\n",
       "    <tr>\n",
       "      <th>2</th>\n",
       "      <td>1403739</td>\n",
       "    </tr>\n",
       "    <tr>\n",
       "      <th>3</th>\n",
       "      <td>693797</td>\n",
       "    </tr>\n",
       "    <tr>\n",
       "      <th>4</th>\n",
       "      <td>1244757</td>\n",
       "    </tr>\n",
       "  </tbody>\n",
       "</table>\n",
       "</div>"
      ],
      "text/plain": [
       "  visitorid\n",
       "0    593408\n",
       "1     71998\n",
       "2   1403739\n",
       "3    693797\n",
       "4   1244757"
      ]
     },
     "execution_count": 7,
     "metadata": {},
     "output_type": "execute_result"
    }
   ],
   "source": [
    "raw_prediction_users.head()"
   ]
  },
  {
   "cell_type": "code",
   "execution_count": 8,
   "metadata": {},
   "outputs": [
    {
     "name": "stdout",
     "output_type": "stream",
     "text": [
      "<class 'modin.pandas.dataframe.DataFrame'>\n",
      "RangeIndex: 174956 entries, 0 to 174955\n",
      "Data columns (total 1 columns):\n",
      " #   Column     Non-Null Count   Dtype \n",
      "---  ------     --------------   ----- \n",
      " 0   visitorid  174956 non-null  string\n",
      "dtypes: string(1)\n",
      "memory usage: 1.3 MB\n"
     ]
    },
    {
     "name": "stderr",
     "output_type": "stream",
     "text": [
      "UserWarning: `DataFrame.info` defaulting to pandas implementation.\n",
      "To request implementation, send an email to feature_requests@modin.org.\n",
      "UserWarning: Distributing <class 'pandas.core.frame.DataFrame'> object. This may take some time.\n"
     ]
    }
   ],
   "source": [
    "raw_prediction_users.info()"
   ]
  },
  {
   "cell_type": "code",
   "execution_count": 9,
   "metadata": {},
   "outputs": [
    {
     "name": "stderr",
     "output_type": "stream",
     "text": [
      "UserWarning: Parameters provided defaulting to pandas implementation.\n"
     ]
    }
   ],
   "source": [
    "# Load events\n",
    "raw_events = load_file(EVENTS_FILENAME, EVENTS_FILE_OPTIONS)        \n",
    "# Load categories\n",
    "# raw_categories = load_file(CATEGORIES_FILENAME, CATEGORIES_FILE_OPTIONS)\n",
    "# Load items properties\n",
    "# raw_items_properties = load_file(ITEMS_PROPERTIES_FILENAME, ITEMS_PROPERTIES_FILE_OPTIONS)"
   ]
  },
  {
   "cell_type": "code",
   "execution_count": 10,
   "metadata": {},
   "outputs": [
    {
     "name": "stderr",
     "output_type": "stream",
     "text": [
      "UserWarning: `Series.to_datetime` defaulting to pandas implementation.\n",
      "UserWarning: Distributing <class 'pandas.core.series.Series'> object. This may take some time.\n",
      "UserWarning: `Series.CombinedDatetimelikeProperties` defaulting to pandas implementation.\n"
     ]
    }
   ],
   "source": [
    "# Make timestamps readable where applicable\n",
    "raw_events.timestamp = pd.to_datetime(raw_events.timestamp,\n",
    "                                      unit='ms')\n",
    "# raw_items_properties.timestamp = pd.to_datetime(raw_items_properties.timestamp,\n",
    "#                                                 unit='ms')\n",
    "\n",
    "# Transform timestamps and add them as a column\n",
    "raw_events['date'] = raw_events.timestamp.dt.date\n",
    "# raw_items_properties['date'] = raw_items_properties.timestamp.dt.date"
   ]
  },
  {
   "cell_type": "code",
   "execution_count": 11,
   "metadata": {},
   "outputs": [
    {
     "data": {
      "text/html": [
       "<div>\n",
       "<style scoped>\n",
       "    .dataframe tbody tr th:only-of-type {\n",
       "        vertical-align: middle;\n",
       "    }\n",
       "\n",
       "    .dataframe tbody tr th {\n",
       "        vertical-align: top;\n",
       "    }\n",
       "\n",
       "    .dataframe thead th {\n",
       "        text-align: right;\n",
       "    }\n",
       "</style>\n",
       "<table border=\"1\" class=\"dataframe\">\n",
       "  <thead>\n",
       "    <tr style=\"text-align: right;\">\n",
       "      <th></th>\n",
       "      <th>timestamp</th>\n",
       "      <th>visitorid</th>\n",
       "      <th>event</th>\n",
       "      <th>itemid</th>\n",
       "      <th>transactionid</th>\n",
       "      <th>date</th>\n",
       "    </tr>\n",
       "  </thead>\n",
       "  <tbody>\n",
       "    <tr>\n",
       "      <th>0</th>\n",
       "      <td>2015-06-02 05:02:12.117</td>\n",
       "      <td>257597</td>\n",
       "      <td>view</td>\n",
       "      <td>355908</td>\n",
       "      <td>&lt;NA&gt;</td>\n",
       "      <td>2015-06-02</td>\n",
       "    </tr>\n",
       "    <tr>\n",
       "      <th>1</th>\n",
       "      <td>2015-06-02 05:50:14.164</td>\n",
       "      <td>992329</td>\n",
       "      <td>view</td>\n",
       "      <td>248676</td>\n",
       "      <td>&lt;NA&gt;</td>\n",
       "      <td>2015-06-02</td>\n",
       "    </tr>\n",
       "    <tr>\n",
       "      <th>2</th>\n",
       "      <td>2015-06-02 05:13:19.827</td>\n",
       "      <td>111016</td>\n",
       "      <td>view</td>\n",
       "      <td>318965</td>\n",
       "      <td>&lt;NA&gt;</td>\n",
       "      <td>2015-06-02</td>\n",
       "    </tr>\n",
       "    <tr>\n",
       "      <th>3</th>\n",
       "      <td>2015-06-02 05:12:35.914</td>\n",
       "      <td>483717</td>\n",
       "      <td>view</td>\n",
       "      <td>253185</td>\n",
       "      <td>&lt;NA&gt;</td>\n",
       "      <td>2015-06-02</td>\n",
       "    </tr>\n",
       "    <tr>\n",
       "      <th>4</th>\n",
       "      <td>2015-06-02 05:02:17.106</td>\n",
       "      <td>951259</td>\n",
       "      <td>view</td>\n",
       "      <td>367447</td>\n",
       "      <td>&lt;NA&gt;</td>\n",
       "      <td>2015-06-02</td>\n",
       "    </tr>\n",
       "  </tbody>\n",
       "</table>\n",
       "</div>"
      ],
      "text/plain": [
       "                timestamp visitorid event  itemid transactionid        date\n",
       "0 2015-06-02 05:02:12.117    257597  view  355908          <NA>  2015-06-02\n",
       "1 2015-06-02 05:50:14.164    992329  view  248676          <NA>  2015-06-02\n",
       "2 2015-06-02 05:13:19.827    111016  view  318965          <NA>  2015-06-02\n",
       "3 2015-06-02 05:12:35.914    483717  view  253185          <NA>  2015-06-02\n",
       "4 2015-06-02 05:02:17.106    951259  view  367447          <NA>  2015-06-02"
      ]
     },
     "execution_count": 11,
     "metadata": {},
     "output_type": "execute_result"
    }
   ],
   "source": [
    "raw_events.head()"
   ]
  },
  {
   "cell_type": "code",
   "execution_count": 12,
   "metadata": {},
   "outputs": [
    {
     "name": "stderr",
     "output_type": "stream",
     "text": [
      "UserWarning: `DataFrame.info` defaulting to pandas implementation.\n",
      "UserWarning: Distributing <class 'pandas.core.frame.DataFrame'> object. This may take some time.\n"
     ]
    },
    {
     "name": "stdout",
     "output_type": "stream",
     "text": [
      "<class 'modin.pandas.dataframe.DataFrame'>\n",
      "RangeIndex: 2756101 entries, 0 to 2756100\n",
      "Data columns (total 6 columns):\n",
      " #   Column         Dtype         \n",
      "---  ------         -----         \n",
      " 0   timestamp      datetime64[ns]\n",
      " 1   visitorid      string        \n",
      " 2   event          string        \n",
      " 3   itemid         string        \n",
      " 4   transactionid  string        \n",
      " 5   date           object        \n",
      "dtypes: datetime64[ns](1), object(1), string(4)\n",
      "memory usage: 126.2+ MB\n"
     ]
    }
   ],
   "source": [
    "raw_events.info()"
   ]
  },
  {
   "cell_type": "code",
   "execution_count": 13,
   "metadata": {},
   "outputs": [],
   "source": [
    "# raw_categories.head()"
   ]
  },
  {
   "cell_type": "code",
   "execution_count": 14,
   "metadata": {},
   "outputs": [],
   "source": [
    "# raw_categories.info()"
   ]
  },
  {
   "cell_type": "code",
   "execution_count": 15,
   "metadata": {},
   "outputs": [],
   "source": [
    "# raw_items_properties.head()"
   ]
  },
  {
   "cell_type": "code",
   "execution_count": 16,
   "metadata": {},
   "outputs": [],
   "source": [
    "# raw_items_properties.info()"
   ]
  },
  {
   "cell_type": "code",
   "execution_count": 17,
   "metadata": {},
   "outputs": [
    {
     "name": "stderr",
     "output_type": "stream",
     "text": [
      "UserWarning: `Series.unique` defaulting to pandas implementation.\n"
     ]
    }
   ],
   "source": [
    "event_begin_timestamp = raw_events.timestamp.min()\n",
    "event_end_timestamp = raw_events.timestamp.max()\n",
    "\n",
    "num_users = raw_events.visitorid.nunique()\n",
    "num_items = raw_events.itemid.nunique()\n",
    "\n",
    "num_users_with_transactions = raw_events[raw_events.event == 'transaction'].visitorid.nunique()\n",
    "num_items_with_transactions = raw_events[raw_events.event == 'transaction'].itemid.nunique()\n",
    "\n",
    "item_lowest_price = raw_events[raw_events.event == 'transaction'].transactionid.min()\n",
    "item_highest_price = raw_events[raw_events.event == 'transaction'].transactionid.max()\n",
    "\n",
    "prediction_users = list(raw_prediction_users.visitorid.unique())"
   ]
  },
  {
   "cell_type": "markdown",
   "metadata": {},
   "source": [
    "### A naive recommender\n",
    "\n",
    "A naive recommender for an item X could be one that suggests a subset of all the items that other customers have bought together with item X.\n",
    "\n",
    "Such recommender doesn't take into account much more than the chances of items being bought together in the realm of a customer within a considered period.<br>\n",
    "On the bright side, the recommender is independent of the customer's behaviour (i.e., the suggestions are independent from the number of purchases) because it relies solely on the item-to-item \"relationships\"."
   ]
  },
  {
   "cell_type": "code",
   "execution_count": 18,
   "metadata": {},
   "outputs": [],
   "source": [
    "# Naive recommender\n",
    "# Suggest n random items of a set of all other items bought together with the queried one by all users\n",
    "# Supports other actions like adding to the cart or viewing an item\n",
    "def items_to_item(events,\n",
    "                  itemid,\n",
    "                  actions='transaction'):\n",
    "    # Customers who bought some specific itemid: event == 'transaction' && transactionid != NaN\n",
    "    # Otherwise (event == 'view' || event == 'addtocart') && transactionid == NaN)\n",
    "    \n",
    "    def visitors_to_item(events, itemid, actions):\n",
    "        filtered_events_per_itemid = events[(events.itemid == itemid)]\n",
    "\n",
    "        if type(actions) is not list:\n",
    "            actions = [actions]\n",
    "            \n",
    "        # Create empty pd.DataFrame WITH structure\n",
    "        #visitors = filtered_events_per_itemid.iloc[0:0,:].copy()\n",
    "        visitors = {}\n",
    "        \n",
    "        for a in actions:\n",
    "            if a == 'transaction':\n",
    "                filtered_events_per_event = filtered_events_per_itemid[(filtered_events_per_itemid.event == a) &\n",
    "                                                                       (filtered_events_per_itemid.transactionid.notna())]\n",
    "            else:\n",
    "                filtered_events_per_event = filtered_events_per_itemid[(filtered_events_per_itemid.event == a) &\n",
    "                                                                       (filtered_events_per_itemid.transactionid.isna())]\n",
    "\n",
    "            visitors[a] = list(filtered_events_per_event.visitorid.unique())\n",
    "\n",
    "        return visitors\n",
    "    \n",
    "    visitors_list_per_event = visitors_to_item(events, itemid, actions)\n",
    "\n",
    "    items_lists = []\n",
    "    for action, visitors_list in visitors_list_per_event.items():\n",
    "        filtered_events_by_action = events[(events.event == action)]\n",
    "        if action == 'transaction':\n",
    "            filtered_events_by_action = filtered_events_by_action[(filtered_events_by_action.transactionid.notna())]\n",
    "        else:\n",
    "            filtered_events_by_action = filtered_events_by_action[(filtered_events_by_action.transactionid.isna())]\n",
    "            \n",
    "        items_lists_per_transaction = [list(filtered_events_by_action[(filtered_events_by_action.visitorid == visitorid)].itemid.unique()) for visitorid in visitors_list]\n",
    "        items_lists += items_lists_per_transaction\n",
    "    \n",
    "    items = set().union(*items_lists)\n",
    "    return list(items)"
   ]
  },
  {
   "cell_type": "code",
   "execution_count": 19,
   "metadata": {},
   "outputs": [
    {
     "data": {
      "text/plain": [
       "['12836',\n",
       " '302422',\n",
       " '105792',\n",
       " '237753',\n",
       " '25353',\n",
       " '15335',\n",
       " '400969',\n",
       " '200793',\n",
       " '80582',\n",
       " '317178',\n",
       " '380775']"
      ]
     },
     "execution_count": 19,
     "metadata": {},
     "output_type": "execute_result"
    }
   ],
   "source": [
    "itemid = '200793'\n",
    "actions=['transaction', 'addtocart']\n",
    "filtered_events = raw_events[(raw_events.date < str_to_date('2015-09-01'))]\n",
    "\n",
    "recommendations = items_to_item(filtered_events, itemid, actions)\n",
    "recommendations"
   ]
  },
  {
   "cell_type": "markdown",
   "metadata": {},
   "source": [
    "### A collaborative filtering recommender\n",
    "\n",
    "Based in matrix factorization. For the interested ones in a summary: https://www.benfrederickson.com/matrix-factorization/ and improvements: https://www.benfrederickson.com/fast-implicit-matrix-factorization/"
   ]
  },
  {
   "cell_type": "code",
   "execution_count": 20,
   "metadata": {},
   "outputs": [],
   "source": [
    "# Filtering the events by date as stated (presumably due to training/validation/test dataset splits).\n",
    "# Note that such filtering is not adequate for matrix factorization approaches because there is not \n",
    "# really a training split in such approaches as they are trying to fill in the 'missing spots'\n",
    "filtered_events_by_date = raw_events[(raw_events.date < str_to_date('2015-09-01'))]"
   ]
  },
  {
   "cell_type": "code",
   "execution_count": 21,
   "metadata": {},
   "outputs": [],
   "source": [
    "# We could filter the events by type and choose those of type 'transaction' (i.e., actual purchases)\n",
    "# However, by doing this we ignore those visitors that do simply view and/or add items to the cart.\n",
    "# This implies a problem of cold start for those customers who have never bought anything, but this\n",
    "# is up to the semantics of the recommendations as well.\n",
    "# E.g., \"Others customers bought these other items\" vs. \"Others customers added these items to their cart\"\n",
    "filtered_events_by_action = filtered_events_by_date[(raw_events.event == 'transaction')]\n",
    "filtered_events = filtered_events_by_action[['visitorid', 'itemid', 'transactionid']]\n",
    "# And we simply convert the purchases to some kind of binary event\n",
    "filtered_events.transactionid = filtered_events.transactionid.apply(lambda x: 1 if x else 0)"
   ]
  },
  {
   "cell_type": "code",
   "execution_count": 22,
   "metadata": {},
   "outputs": [
    {
     "name": "stderr",
     "output_type": "stream",
     "text": [
      "UserWarning: `Series.value_counts` defaulting to pandas implementation.\n",
      "UserWarning: Distributing <class 'pandas.core.series.Series'> object. This may take some time.\n",
      "UserWarning: User-defined function verification is still under development in Modin. The function provided is not verified.\n",
      "UserWarning: Multi-column groupby is a new feature. Please report any bugs/issues to bug_reports@modin.org.\n",
      "UserWarning: `DataFrame.groupby_on_multiple_columns` defaulting to pandas implementation.\n",
      "UserWarning: `DataFrame.reset_index` defaulting to pandas implementation.\n"
     ]
    }
   ],
   "source": [
    "# Adding 'view' and 'addtocart' events in the events to recommend on based on a normalised weight\n",
    "# over all the events in the dataset (see https://www.kaggle.com/aafrin/retail-rocket-recommender-system-for-beginners)\n",
    "def get_normalised_group(group, statistics):\n",
    "    \n",
    "    def get_weight(x, statistics):\n",
    "        statistics_normalised = dict(statistics)\n",
    "        \n",
    "        total = sum(list(statistics_normalised.values()))\n",
    "\n",
    "        for k, v in statistics_normalised.items():\n",
    "            statistics_normalised[k] = statistics[k]/total\n",
    "            \n",
    "        return statistics_normalised[x]\n",
    "    \n",
    "    group_events = list(group.event)\n",
    "    \n",
    "    rating = 0\n",
    "    for e in group_events:\n",
    "        rating += get_weight(e, statistics)\n",
    "\n",
    "    return rating\n",
    "\n",
    "filtered_events_statistics = dict(filtered_events_by_date['event'].value_counts())\n",
    "# filtered_events = filtered_events_by_date.drop_duplicates(['visitorid', 'itemid', 'date']).groupby(['visitorid','itemid']).apply(get_normalised_group, statistics=filtered_events_statistics).reset_index()\n",
    "filtered_events = filtered_events_by_date.drop_duplicates(['visitorid', 'itemid', 'date'])\n",
    "filtered_events = filtered_events[['visitorid', 'itemid', 'event']]\n",
    "filtered_events = filtered_events.groupby(['visitorid','itemid']).apply(get_normalised_group, statistics=filtered_events_statistics).reset_index()"
   ]
  },
  {
   "cell_type": "code",
   "execution_count": 23,
   "metadata": {},
   "outputs": [
    {
     "data": {
      "text/html": [
       "<div>\n",
       "<style scoped>\n",
       "    .dataframe tbody tr th:only-of-type {\n",
       "        vertical-align: middle;\n",
       "    }\n",
       "\n",
       "    .dataframe tbody tr th {\n",
       "        vertical-align: top;\n",
       "    }\n",
       "\n",
       "    .dataframe thead th {\n",
       "        text-align: right;\n",
       "    }\n",
       "</style>\n",
       "<table border=\"1\" class=\"dataframe\">\n",
       "  <thead>\n",
       "    <tr style=\"text-align: right;\">\n",
       "      <th></th>\n",
       "      <th>visitorid</th>\n",
       "      <th>itemid</th>\n",
       "      <th>transactionid</th>\n",
       "    </tr>\n",
       "  </thead>\n",
       "  <tbody>\n",
       "    <tr>\n",
       "      <th>0</th>\n",
       "      <td>1</td>\n",
       "      <td>72028</td>\n",
       "      <td>0.966670</td>\n",
       "    </tr>\n",
       "    <tr>\n",
       "      <th>1</th>\n",
       "      <td>10</td>\n",
       "      <td>248766</td>\n",
       "      <td>0.966670</td>\n",
       "    </tr>\n",
       "    <tr>\n",
       "      <th>2</th>\n",
       "      <td>1000</td>\n",
       "      <td>248975</td>\n",
       "      <td>0.966670</td>\n",
       "    </tr>\n",
       "    <tr>\n",
       "      <th>3</th>\n",
       "      <td>10000</td>\n",
       "      <td>359491</td>\n",
       "      <td>0.966670</td>\n",
       "    </tr>\n",
       "    <tr>\n",
       "      <th>4</th>\n",
       "      <td>10000</td>\n",
       "      <td>401285</td>\n",
       "      <td>1.933339</td>\n",
       "    </tr>\n",
       "  </tbody>\n",
       "</table>\n",
       "</div>"
      ],
      "text/plain": [
       "  visitorid  itemid  transactionid\n",
       "0         1   72028       0.966670\n",
       "1        10  248766       0.966670\n",
       "2      1000  248975       0.966670\n",
       "3     10000  359491       0.966670\n",
       "4     10000  401285       1.933339"
      ]
     },
     "execution_count": 23,
     "metadata": {},
     "output_type": "execute_result"
    }
   ],
   "source": [
    "filtered_events.columns = [*filtered_events.columns[:-1], 'transactionid']\n",
    "filtered_events.head()"
   ]
  },
  {
   "cell_type": "code",
   "execution_count": 24,
   "metadata": {},
   "outputs": [
    {
     "data": {
      "text/html": [
       "<div>\n",
       "<style scoped>\n",
       "    .dataframe tbody tr th:only-of-type {\n",
       "        vertical-align: middle;\n",
       "    }\n",
       "\n",
       "    .dataframe tbody tr th {\n",
       "        vertical-align: top;\n",
       "    }\n",
       "\n",
       "    .dataframe thead th {\n",
       "        text-align: right;\n",
       "    }\n",
       "</style>\n",
       "<table border=\"1\" class=\"dataframe\">\n",
       "  <thead>\n",
       "    <tr style=\"text-align: right;\">\n",
       "      <th></th>\n",
       "      <th>transactionid</th>\n",
       "    </tr>\n",
       "  </thead>\n",
       "  <tbody>\n",
       "    <tr>\n",
       "      <th>count</th>\n",
       "      <td>1.905695e+06</td>\n",
       "    </tr>\n",
       "    <tr>\n",
       "      <th>mean</th>\n",
       "      <td>1.009373e+00</td>\n",
       "    </tr>\n",
       "    <tr>\n",
       "      <th>std</th>\n",
       "      <td>5.157814e-01</td>\n",
       "    </tr>\n",
       "    <tr>\n",
       "      <th>min</th>\n",
       "      <td>8.191190e-03</td>\n",
       "    </tr>\n",
       "    <tr>\n",
       "      <th>25%</th>\n",
       "      <td>9.666697e-01</td>\n",
       "    </tr>\n",
       "    <tr>\n",
       "      <th>50%</th>\n",
       "      <td>9.666697e-01</td>\n",
       "    </tr>\n",
       "    <tr>\n",
       "      <th>75%</th>\n",
       "      <td>9.666697e-01</td>\n",
       "    </tr>\n",
       "    <tr>\n",
       "      <th>max</th>\n",
       "      <td>1.140670e+02</td>\n",
       "    </tr>\n",
       "  </tbody>\n",
       "</table>\n",
       "</div>"
      ],
      "text/plain": [
       "       transactionid\n",
       "count   1.905695e+06\n",
       "mean    1.009373e+00\n",
       "std     5.157814e-01\n",
       "min     8.191190e-03\n",
       "25%     9.666697e-01\n",
       "50%     9.666697e-01\n",
       "75%     9.666697e-01\n",
       "max     1.140670e+02"
      ]
     },
     "execution_count": 24,
     "metadata": {},
     "output_type": "execute_result"
    }
   ],
   "source": [
    "filtered_events.describe()"
   ]
  },
  {
   "cell_type": "code",
   "execution_count": 25,
   "metadata": {},
   "outputs": [
    {
     "name": "stderr",
     "output_type": "stream",
     "text": [
      "UserWarning: `Series.unique` defaulting to pandas implementation.\n"
     ]
    }
   ],
   "source": [
    "users_index_map, index_users_map = remap_list(list(filtered_events.visitorid.unique()))\n",
    "items_index_map, index_items_map = remap_list(list(filtered_events.itemid.unique()))"
   ]
  },
  {
   "cell_type": "code",
   "execution_count": 26,
   "metadata": {},
   "outputs": [],
   "source": [
    "def create_ratings_matrix(events,\n",
    "                          user_col='visitorid',\n",
    "                          item_col='itemid',\n",
    "                          rating_col='transactionid',\n",
    "                          user_index=None,\n",
    "                          item_index=None,\n",
    "                          mode='coo'):\n",
    "\n",
    "    num_users = events[user_col].nunique()\n",
    "    num_items = events[item_col].nunique()\n",
    "    \n",
    "    if user_index:\n",
    "        users_index_map = user_index\n",
    "    else:\n",
    "        users_index_map, index_users_map = remap_list(list(events[user_col].unique()))\n",
    "        \n",
    "    if item_index:\n",
    "        items_index_map = item_index\n",
    "    else:\n",
    "        items_index_map, index_items_map = remap_list(list(events[item_col].unique()))\n",
    "    \n",
    "    \n",
    "    if mode == 'dok':\n",
    "        ratings = sparse.dok_matrix((num_users, num_items), dtype=events[rating_col].dtype)\n",
    "        \n",
    "        for row in events.itertuples(index=False):\n",
    "            i = users_index_map[row[user_col]]\n",
    "            j = items_index_map[row[item_col]]\n",
    "            v = row[raing_col]\n",
    "    \n",
    "            ratings[i, j] = v\n",
    "    elif mode == 'coo':\n",
    "        i = events[user_col].apply(lambda x: users_index_map[x])\n",
    "        j = events[item_col].apply(lambda x: items_index_map[x])\n",
    "        data = events[rating_col].values\n",
    "\n",
    "        ratings = sparse.coo_matrix((data, (i, j)), shape=(num_users, num_items))\n",
    "    else:\n",
    "        raise(\"Nope\")\n",
    "\n",
    "    return ratings, users_index_map, items_index_map"
   ]
  },
  {
   "cell_type": "code",
   "execution_count": 27,
   "metadata": {},
   "outputs": [
    {
     "data": {
      "text/plain": [
       "(1250856, 222982)"
      ]
     },
     "execution_count": 27,
     "metadata": {},
     "output_type": "execute_result"
    }
   ],
   "source": [
    "user_to_item_matrix, _, _ = create_ratings_matrix(filtered_events, user_index=users_index_map, item_index=items_index_map)\n",
    "user_to_item_matrix.shape"
   ]
  },
  {
   "cell_type": "code",
   "execution_count": 28,
   "metadata": {},
   "outputs": [
    {
     "name": "stderr",
     "output_type": "stream",
     "text": [
      "WARNING:root:OpenBLAS detected. Its highly recommend to set the environment variable 'export OPENBLAS_NUM_THREADS=1' to disable its internal multithreading\n"
     ]
    }
   ],
   "source": [
    "# Initialize the model(s)\n",
    "cf_als = implicit.als.AlternatingLeastSquares(factors=128,\n",
    "                                              regularization=1.5,\n",
    "                                              iterations=15,\n",
    "                                              calculate_training_loss=True)\n",
    "\n",
    "cf_approximate_als = implicit.approximate_als.NMSLibAlternatingLeastSquares(factors=128,\n",
    "                                                                            regularization=1.5,\n",
    "                                                                            iterations=15,\n",
    "                                                                            calculate_training_loss=True)\n",
    "\n",
    "cf_bpr = implicit.bpr.BayesianPersonalizedRanking(factors=128,\n",
    "                                                  learning_rate=1.5,\n",
    "                                                  regularization=1,\n",
    "                                                  iterations=75,\n",
    "                                                  verify_negative_samples=True)\n",
    "\n",
    "cf_lmf = implicit.lmf.LogisticMatrixFactorization(factors=128,\n",
    "                                                  learning_rate=0.1,\n",
    "                                                  regularization=1.5,\n",
    "                                                  iterations=5)\n",
    "\n"
   ]
  },
  {
   "cell_type": "code",
   "execution_count": 29,
   "metadata": {},
   "outputs": [
    {
     "data": {
      "application/vnd.jupyter.widget-view+json": {
       "model_id": "1e0b6ace4ba2487db0f5cea44969b8ae",
       "version_major": 2,
       "version_minor": 0
      },
      "text/plain": [
       "HBox(children=(FloatProgress(value=0.0, max=15.0), HTML(value='')))"
      ]
     },
     "metadata": {},
     "output_type": "display_data"
    },
    {
     "name": "stdout",
     "output_type": "stream",
     "text": [
      "\n"
     ]
    }
   ],
   "source": [
    "# Train the model(s) on the transposed sparse matrix of user/item/[confidence|rating weights]\n",
    "item_to_user_matrix = user_to_item_matrix.T.tocsr()\n",
    "\n",
    "cf_als.fit(item_to_user_matrix, show_progress=True)\n",
    "# cf_bpr.fit(item_to_user_matrix, show_progress=True)\n",
    "# cf_lmf.fit(item_to_user_matrix, show_progress=True)\n",
    "\n",
    "# cf_approximate_als.fit(item_to_user_matrix, show_progress=True)"
   ]
  },
  {
   "cell_type": "code",
   "execution_count": 30,
   "metadata": {},
   "outputs": [
    {
     "data": {
      "text/plain": [
       "[(1407, 0.0005457548900343206),\n",
       " (763, 0.00026285262249404323),\n",
       " (351, 0.00024427966944502613),\n",
       " (12847, 0.00020868154499886692),\n",
       " (11857, 0.00017213938362194413),\n",
       " (2410, 0.00015385523441294348),\n",
       " (901, 0.0001262289816424892),\n",
       " (2483, 0.00011804110605299149),\n",
       " (10370, 8.921049957993591e-05),\n",
       " (6192, 8.630093639929823e-05)]"
      ]
     },
     "execution_count": 30,
     "metadata": {},
     "output_type": "execute_result"
    }
   ],
   "source": [
    "# Recommend items for one user (note that both the user and the results correspond to the internal indexes)\n",
    "user_index=0\n",
    "n=100\n",
    "recommendations = cf_als.recommend(userid=user_index,\n",
    "                                   user_items=user_to_item_matrix.tocsr(),\n",
    "                                   N=n,\n",
    "                                   filter_already_liked_items=True,\n",
    "                                   recalculate_user=True)\n",
    "recommendations[:10]"
   ]
  },
  {
   "cell_type": "markdown",
   "metadata": {},
   "source": [
    "## Some functions for a potential API"
   ]
  },
  {
   "cell_type": "code",
   "execution_count": 31,
   "metadata": {},
   "outputs": [],
   "source": [
    "def get_single_user_implicit_recommendations(user_to_recommend,\n",
    "                                             trained_model,\n",
    "                                             users_items_matrix,\n",
    "                                             users_index_map,\n",
    "                                             index_items_map,\n",
    "                                             user_col='visitorid',\n",
    "                                             n=100):\n",
    "\n",
    "    user_recommendations = list()\n",
    "        \n",
    "    if user_to_recommend in users_index_map.keys():\n",
    "        user_index = users_index_map[user_to_recommend]\n",
    "        user_item_index_recommendations = model.recommend(userid=user_index,\n",
    "                                                              user_items=users_items_matrix.tocsr(),\n",
    "                                                              N=n,\n",
    "                                                              filter_already_liked_items=True,\n",
    "                                                              recalculate_user=True)\n",
    "        user_item_index_recommendations_sorted = sorted(user_item_index_recommendations,\n",
    "                                                            key=lambda x: x[1],\n",
    "                                                            reverse=True)\n",
    "        user_recommendations = list(map(lambda item_index: index_items_map[item_index],\n",
    "                                        [t[0] for t in user_item_index_recommendations_sorted]))\n",
    "        \n",
    "    return user_recommendations\n",
    "\n",
    "def get_implicit_recommendations(users_to_recommend,\n",
    "                                 trained_model,\n",
    "                                 users_items_matrix,\n",
    "                                 users_index_map,\n",
    "                                 index_items_map,\n",
    "                                 user_col='visitorid',\n",
    "                                 n=100):\n",
    "\n",
    "\n",
    "    \n",
    "    num_users_prediction = users_to_recommend[user_col].size\n",
    "    recommendations = {}\n",
    "    \n",
    "    start = time.time()\n",
    "    with tqdm.tqdm(total=num_users_prediction) as progress:\n",
    "        for user in list(users_to_recommend[user_col]):\n",
    "            recommendations[user] = get_single_user_implicit_recommendations(user,\n",
    "                                                                             trained_model,\n",
    "                                                                             users_items_matrix,\n",
    "                                                                             users_index_map,\n",
    "                                                                             index_items_map,\n",
    "                                                                             user_col,\n",
    "                                                                             n)\n",
    "    \n",
    "            progress.update(1)\n",
    "\n",
    "    return recommendations"
   ]
  },
  {
   "cell_type": "code",
   "execution_count": 32,
   "metadata": {},
   "outputs": [
    {
     "data": {
      "text/html": [
       "<div>\n",
       "<style scoped>\n",
       "    .dataframe tbody tr th:only-of-type {\n",
       "        vertical-align: middle;\n",
       "    }\n",
       "\n",
       "    .dataframe tbody tr th {\n",
       "        vertical-align: top;\n",
       "    }\n",
       "\n",
       "    .dataframe thead th {\n",
       "        text-align: right;\n",
       "    }\n",
       "</style>\n",
       "<table border=\"1\" class=\"dataframe\">\n",
       "  <thead>\n",
       "    <tr style=\"text-align: right;\">\n",
       "      <th></th>\n",
       "      <th>visitorid</th>\n",
       "    </tr>\n",
       "  </thead>\n",
       "  <tbody>\n",
       "    <tr>\n",
       "      <th>0</th>\n",
       "      <td>593408</td>\n",
       "    </tr>\n",
       "    <tr>\n",
       "      <th>1</th>\n",
       "      <td>71998</td>\n",
       "    </tr>\n",
       "    <tr>\n",
       "      <th>2</th>\n",
       "      <td>1403739</td>\n",
       "    </tr>\n",
       "    <tr>\n",
       "      <th>3</th>\n",
       "      <td>693797</td>\n",
       "    </tr>\n",
       "    <tr>\n",
       "      <th>4</th>\n",
       "      <td>1244757</td>\n",
       "    </tr>\n",
       "  </tbody>\n",
       "</table>\n",
       "</div>"
      ],
      "text/plain": [
       "  visitorid\n",
       "0    593408\n",
       "1     71998\n",
       "2   1403739\n",
       "3    693797\n",
       "4   1244757"
      ]
     },
     "execution_count": 32,
     "metadata": {},
     "output_type": "execute_result"
    }
   ],
   "source": [
    "# Configuration parameters...\n",
    "N = 100\n",
    "model = cf_als\n",
    "pred_users = raw_prediction_users.head(5)\n",
    "pred_users"
   ]
  },
  {
   "cell_type": "code",
   "execution_count": 33,
   "metadata": {},
   "outputs": [
    {
     "name": "stderr",
     "output_type": "stream",
     "text": [
      "100%|██████████| 5/5 [00:00<00:00, 25.08it/s]\n"
     ]
    },
    {
     "data": {
      "text/plain": [
       "{'593408': [],\n",
       " '71998': ['320130',\n",
       "  '389158',\n",
       "  '438484',\n",
       "  '122604',\n",
       "  '80435',\n",
       "  '227318',\n",
       "  '237952',\n",
       "  '51650',\n",
       "  '463617',\n",
       "  '218746',\n",
       "  '340375',\n",
       "  '179834',\n",
       "  '108486',\n",
       "  '337327',\n",
       "  '340825',\n",
       "  '49621',\n",
       "  '109583',\n",
       "  '76196',\n",
       "  '90240',\n",
       "  '14671',\n",
       "  '137352',\n",
       "  '396042',\n",
       "  '446820',\n",
       "  '248614',\n",
       "  '33912',\n",
       "  '395435',\n",
       "  '73602',\n",
       "  '33907',\n",
       "  '9211',\n",
       "  '446411',\n",
       "  '334520',\n",
       "  '262982',\n",
       "  '56303',\n",
       "  '26228',\n",
       "  '296619',\n",
       "  '344071',\n",
       "  '243606',\n",
       "  '408203',\n",
       "  '46130',\n",
       "  '253615',\n",
       "  '117206',\n",
       "  '57788',\n",
       "  '88904',\n",
       "  '194270',\n",
       "  '383828',\n",
       "  '53151',\n",
       "  '439956',\n",
       "  '316753',\n",
       "  '369565',\n",
       "  '293139',\n",
       "  '384157',\n",
       "  '183756',\n",
       "  '420960',\n",
       "  '11279',\n",
       "  '83489',\n",
       "  '173313',\n",
       "  '377923',\n",
       "  '124272',\n",
       "  '394052',\n",
       "  '363111',\n",
       "  '127537',\n",
       "  '357583',\n",
       "  '381503',\n",
       "  '370395',\n",
       "  '425951',\n",
       "  '461091',\n",
       "  '392074',\n",
       "  '266900',\n",
       "  '56323',\n",
       "  '41803',\n",
       "  '39561',\n",
       "  '353355',\n",
       "  '227211',\n",
       "  '299634',\n",
       "  '347974',\n",
       "  '215944',\n",
       "  '356455',\n",
       "  '829',\n",
       "  '170390',\n",
       "  '271896',\n",
       "  '118914',\n",
       "  '206216',\n",
       "  '213834',\n",
       "  '152433',\n",
       "  '403',\n",
       "  '445351',\n",
       "  '413166',\n",
       "  '358565',\n",
       "  '120990',\n",
       "  '416399',\n",
       "  '445105',\n",
       "  '420528',\n",
       "  '203090',\n",
       "  '306590',\n",
       "  '374092',\n",
       "  '227869',\n",
       "  '215363',\n",
       "  '177522',\n",
       "  '346015',\n",
       "  '284463'],\n",
       " '1403739': [],\n",
       " '693797': [],\n",
       " '1244757': []}"
      ]
     },
     "execution_count": 33,
     "metadata": {},
     "output_type": "execute_result"
    }
   ],
   "source": [
    "recommendations = get_implicit_recommendations(pred_users,\n",
    "                                               model,\n",
    "                                               user_to_item_matrix,\n",
    "                                               users_index_map,\n",
    "                                               index_items_map,\n",
    "                                               n=N)\n",
    "recommendations\n",
    "# save_recommendations(recommendations, \"data/pong.csv\")"
   ]
  },
  {
   "cell_type": "code",
   "execution_count": 34,
   "metadata": {},
   "outputs": [
    {
     "data": {
      "text/html": [
       "<div>\n",
       "<style scoped>\n",
       "    .dataframe tbody tr th:only-of-type {\n",
       "        vertical-align: middle;\n",
       "    }\n",
       "\n",
       "    .dataframe tbody tr th {\n",
       "        vertical-align: top;\n",
       "    }\n",
       "\n",
       "    .dataframe thead th {\n",
       "        text-align: right;\n",
       "    }\n",
       "</style>\n",
       "<table border=\"1\" class=\"dataframe\">\n",
       "  <thead>\n",
       "    <tr style=\"text-align: right;\">\n",
       "      <th></th>\n",
       "      <th>visitorid</th>\n",
       "      <th>recommendations</th>\n",
       "    </tr>\n",
       "  </thead>\n",
       "  <tbody>\n",
       "    <tr>\n",
       "      <th>0</th>\n",
       "      <td>593408</td>\n",
       "      <td>[]</td>\n",
       "    </tr>\n",
       "    <tr>\n",
       "      <th>1</th>\n",
       "      <td>71998</td>\n",
       "      <td>[320130, 389158, 438484, 122604, 80435, 227318...</td>\n",
       "    </tr>\n",
       "    <tr>\n",
       "      <th>2</th>\n",
       "      <td>1403739</td>\n",
       "      <td>[]</td>\n",
       "    </tr>\n",
       "    <tr>\n",
       "      <th>3</th>\n",
       "      <td>693797</td>\n",
       "      <td>[]</td>\n",
       "    </tr>\n",
       "    <tr>\n",
       "      <th>4</th>\n",
       "      <td>1244757</td>\n",
       "      <td>[]</td>\n",
       "    </tr>\n",
       "  </tbody>\n",
       "</table>\n",
       "</div>"
      ],
      "text/plain": [
       "  visitorid                                    recommendations\n",
       "0    593408                                                 []\n",
       "1     71998  [320130, 389158, 438484, 122604, 80435, 227318...\n",
       "2   1403739                                                 []\n",
       "3    693797                                                 []\n",
       "4   1244757                                                 []"
      ]
     },
     "execution_count": 34,
     "metadata": {},
     "output_type": "execute_result"
    }
   ],
   "source": [
    "l = lambda user: get_single_user_implicit_recommendations(user,\n",
    "                                                       model,\n",
    "                                                       user_to_item_matrix,\n",
    "                                                       users_index_map,\n",
    "                                                       index_items_map,\n",
    "                                                       n=N)\n",
    "pred_users['recommendations'] = pred_users.visitorid.apply(l, axis=1)\n",
    "pred_users.head()"
   ]
  }
 ],
 "metadata": {
  "kernelspec": {
   "display_name": "Python 3",
   "language": "python",
   "name": "python3"
  },
  "language_info": {
   "codemirror_mode": {
    "name": "ipython",
    "version": 3
   },
   "file_extension": ".py",
   "mimetype": "text/x-python",
   "name": "python",
   "nbconvert_exporter": "python",
   "pygments_lexer": "ipython3",
   "version": "3.7.7"
  }
 },
 "nbformat": 4,
 "nbformat_minor": 4
}
