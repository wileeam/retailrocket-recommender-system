{
 "cells": [
  {
   "cell_type": "markdown",
   "metadata": {},
   "source": [
    "## Recommender engine for e-commerce "
   ]
  },
  {
   "cell_type": "markdown",
   "metadata": {},
   "source": [
    "Problem: create a recommender engine to suggest products to the users visiting an e-commerce site\n",
    "\n",
    "(Some) comments:\n",
    "\n",
    "* The dataset consists of a collection of events (namely, 'view', 'addtocart' and 'transaction') describing the actions that visitors to the site carry out with the items offered. It is expected that visitors that buy items with the action 'transaction' have added such items to their cart beforehand 'addtocart' (they may or may have not visited them though).\n",
    "* The dataset does not contain any information about explicit feedback. Potentially one could consider the price of items and/or number of items bought within a period as a way for implicit feedback. There is also some information about pricing in the dataset but it is not clear how that is linked to the purchases, i.e., the events of the visitors to the site. For simplicity, a binary implicit feedback seems a good approach.\n",
    "* There is an obvious issue with visitors who do not actually buy anything, but this is more a matter of the function that is considered to create the implicit feedback. For example, one could convert the three types of events to weights and use that information in the following fashion: f(event)_visitor = sum_all(event_visitor*event_type_weight)\n",
    "\n",
    "(Some) solutions:\n",
    "* A naive recommender has been built to show a simple but perhaps not so effective solution. Such recommender just connects items that were bought together among all customers, hence it is not that personalised on an individual level but could be useful if considering rules and weights for the events for users for which there is no prior collected information in the site.\n",
    "* Another recommender based in matrix factorization, and by means of a library, has also been built, but considering only the items that are bought by the visitors. As the information available about feedback on the purchases is implicit, such solution seems appropiate. But this solution is not performing that well due to the nature of building a matrix in a single machine, and so it is not that scalable without a rework on some framework that allows for a distributed computation. One could use more advanced solutions like neuronal networks, e.g., NeuCF.\n",
    "* There is an interesting catch with the data as the events form some sort of session that could be tracked and modeled for a more accurate computation. GRU4Rec seems to be a structure based on RNNs that accounts for the sequential information that the dataset entitles towards collaborative filtering and the memory that would be needed to remember the different sequences of events to figure out the patterns that lead to a purchase, for example. "
   ]
  },
  {
   "cell_type": "code",
   "execution_count": 1,
   "metadata": {},
   "outputs": [],
   "source": [
    "import bz2\n",
    "from datetime import datetime\n",
    "import logging\n",
    "import os\n",
    "import platform\n",
    "import pytz\n",
    "import time\n",
    "import tqdm\n",
    "from urllib.parse import urlparse\n",
    "\n",
    "import matplotlib.pyplot as plt\n",
    "import numpy as np\n",
    "import scipy\n",
    "import scipy.sparse as sparse\n",
    "import seaborn as sns\n",
    "\n",
    "os.environ[\"MODIN_ENGINE\"] = \"ray\"  # Modin will be using the Ray engine\n",
    "# import pandas as pd\n",
    "import modin.pandas as pd\n",
    "\n",
    "import implicit\n",
    "# import lightfm\n",
    "import tensorflow as tf"
   ]
  },
  {
   "cell_type": "code",
   "execution_count": 2,
   "metadata": {},
   "outputs": [
    {
     "name": "stdout",
     "output_type": "stream",
     "text": [
      "Running Python 3.7.7\n",
      "Computing with TensorFlow 2.2.0\n"
     ]
    }
   ],
   "source": [
    "python_version = platform.python_version()\n",
    "tensorflow_version = tf.__version__\n",
    "\n",
    "if python_version < '3.7':\n",
    "    print(\"This notebook requires Python 3.7+ to run. You are running Python {}\".format(python_version))\n",
    "    print(\"Continue using at your own risk\")\n",
    "else:\n",
    "    print(\"Running Python {}\".format(python_version))\n",
    "\n",
    "if tensorflow_version < '2.':\n",
    "    print(\"This notebook requires TensorFlow 2+ to run. You are computing with TensorFlow {}\".format(tensorflow_version))\n",
    "    print(\"Results are not guaranteed to be correct. Continue using at your own risk\")\n",
    "else:\n",
    "    print(\"Computing with TensorFlow {}\".format(tensorflow_version))"
   ]
  },
  {
   "cell_type": "code",
   "execution_count": 3,
   "metadata": {},
   "outputs": [],
   "source": [
    "%matplotlib inline\n",
    "random_seed = 12345\n",
    "tf.random.set_seed(random_seed)\n",
    "sns.set(style=\"darkgrid\")"
   ]
  },
  {
   "cell_type": "code",
   "execution_count": 4,
   "metadata": {},
   "outputs": [],
   "source": [
    "# Some common variables\n",
    "# Note: if you move this noteboook to some other path, you will have to adjust the DATA_DIR variable\n",
    "DATA_DIR = os.path.join(os.getcwd(), 'data')\n",
    "\n",
    "EVENTS_FILENAME = 'events.csv'\n",
    "EVENTS_FILE_OPTIONS = {'visitorid': 'string',\n",
    "                       'itemid': 'string',\n",
    "                       'event': 'string',\n",
    "                       'transactionid': 'string'}\n",
    "CATEGORIES_FILENAME = 'category_tree.csv'\n",
    "CATEGORIES_FILE_OPTIONS = {'categoryid': 'string',\n",
    "                           'parentid': 'string'}\n",
    "ITEMS_PROPERTIES_FILENAME = ['item_properties_part1.csv',\n",
    "                             'item_properties_part2.csv']\n",
    "ITEMS_PROPERTIES_FILE_OPTIONS = {'itemid': 'string',\n",
    "                                 'property': 'string'}\n",
    "\n",
    "PREDICTION_USERS_FILENAME = 'predictions.csv'\n",
    "PREDICTION_FILE_OPTIONS = {'visitorid': 'string'}"
   ]
  },
  {
   "cell_type": "code",
   "execution_count": 5,
   "metadata": {},
   "outputs": [],
   "source": [
    "# Some helper functions\n",
    "def is_url(uri):\n",
    "    return urlparse(uri).scheme in ('http', 'https',)\n",
    "\n",
    "def timestamp_to_date(posix_timestamp, timezone='UTC'):\n",
    "    \"\"\"\n",
    "    Converts a POSIX timestamp to its date type equivalent\n",
    "    \"\"\"\n",
    "    utc_timestamp = datetime.utcfromtimestamp(int(posix_timestamp)).replace(tzinfo=pytz.utc)\n",
    "    \n",
    "    # convert it to tz\n",
    "    if timezone:\n",
    "        timezone_settings = pytz.timezone(timezone)\n",
    "        timestamp = utc_timestamp.astimezone(timezone_settings)\n",
    "\n",
    "    date = timestamp.date()\n",
    "\n",
    "    return date\n",
    "\n",
    "def timestamp_to_hour(timestamp, timezone='UTC'):\n",
    "    \"\"\"\n",
    "    Extracts the hour of a UTC datetime object, optionally considering a timezone\n",
    "    \"\"\"\n",
    "    timestamp_timezone = pytz.timezone(timezone).localize(timestamp)\n",
    "    \n",
    "    return timestamp_timezone.hour\n",
    "\n",
    "def str_to_date(date_string, format='%Y-%m-%d'):\n",
    "    \"\"\"\n",
    "    Converts a date string to its date type equivalent\n",
    "    \"\"\"\n",
    "    return datetime.strptime(date_string, format).date()\n",
    "\n",
    "def remap_list(source, init=0):\n",
    "    \"\"\"\n",
    "    Maps an input list of ids to a sequential list of integers.\n",
    "    Returns the mapping in either 'direction' for convenience\n",
    "    \"\"\"\n",
    "    \n",
    "    # Remove potential duplicates\n",
    "    source = list(dict.fromkeys(source))\n",
    "    \n",
    "    source_index = {}\n",
    "    index_source = {}\n",
    "    count = init\n",
    "    \n",
    "    for l in source:\n",
    "        source_index[l] = count\n",
    "        index_source[count] = l\n",
    "        count += 1\n",
    "\n",
    "    return source_index, index_source\n",
    "\n",
    "def load_file(filenames, options=None, bzip2=True):\n",
    "    \"\"\"\n",
    "    Loads the data contained in one or more files and returns it as a Pandas variable\n",
    "    \"\"\"\n",
    "    def read_csv_as_pd(csv_path, options=None):\n",
    "        if options:\n",
    "            return pd.read_csv(csv_path, dtype=options)\n",
    "        else:\n",
    "            return pd.read_csv(csv_path)\n",
    "    \n",
    "    def read_bz2_as_pd(filepath, options=None):\n",
    "        with bz2.open(filepath, \"rt\") as f:\n",
    "            data = read_csv_as_pd(f, options)\n",
    "            \n",
    "        return data\n",
    "    \n",
    "    def read_gz_as_pd(filepath, options=None):\n",
    "        data = None\n",
    "        return data\n",
    "    \n",
    "    if type(filenames) is not list:\n",
    "        filenames = [filenames]\n",
    "    \n",
    "    filenames = [filename if is_url(filename) else os.path.join(DATA_DIR, filename) for filename in filenames]\n",
    "    \n",
    "    if bzip2:\n",
    "        filenames = [filename + '.bz2' if bzip2 else filename for filename in filenames]\n",
    "        df_files_array = (read_bz2_as_pd(filename, options) for filename in filenames)\n",
    "    else:\n",
    "        df_files_array = (read_csv_as_pd(filename, options) for filename in filenames)\n",
    "\n",
    "    data = pd.concat(df_files_array, ignore_index=True)\n",
    "    \n",
    "    return data\n",
    "\n",
    "def save_recommendations(recommendations,\n",
    "                         filename,\n",
    "                         user_col='visitorid',\n",
    "                         item_col_prefix='item_',\n",
    "                         n=100):\n",
    "\n",
    "    col_names = [item_col_prefix + str(x) for x in range(n)]\n",
    "\n",
    "    data = pd.DataFrame.from_dict(recommendations, orient='index', columns=col_names)\n",
    "    data.index.names = [user_col]\n",
    "    data.reset_index(inplace=True)\n",
    "\n",
    "    data.to_csv(filename, index=False)"
   ]
  },
  {
   "cell_type": "code",
   "execution_count": 6,
   "metadata": {},
   "outputs": [],
   "source": [
    "# Load users to eventually predict on\n",
    "raw_prediction_users = load_file(PREDICTION_USERS_FILENAME, PREDICTION_FILE_OPTIONS, bzip2=False)"
   ]
  },
  {
   "cell_type": "code",
   "execution_count": 7,
   "metadata": {},
   "outputs": [
    {
     "data": {
      "text/html": [
       "<div>\n",
       "<style scoped>\n",
       "    .dataframe tbody tr th:only-of-type {\n",
       "        vertical-align: middle;\n",
       "    }\n",
       "\n",
       "    .dataframe tbody tr th {\n",
       "        vertical-align: top;\n",
       "    }\n",
       "\n",
       "    .dataframe thead th {\n",
       "        text-align: right;\n",
       "    }\n",
       "</style>\n",
       "<table border=\"1\" class=\"dataframe\">\n",
       "  <thead>\n",
       "    <tr style=\"text-align: right;\">\n",
       "      <th></th>\n",
       "      <th>visitorid</th>\n",
       "    </tr>\n",
       "  </thead>\n",
       "  <tbody>\n",
       "    <tr>\n",
       "      <th>0</th>\n",
       "      <td>593408</td>\n",
       "    </tr>\n",
       "    <tr>\n",
       "      <th>1</th>\n",
       "      <td>71998</td>\n",
       "    </tr>\n",
       "    <tr>\n",
       "      <th>2</th>\n",
       "      <td>1403739</td>\n",
       "    </tr>\n",
       "    <tr>\n",
       "      <th>3</th>\n",
       "      <td>693797</td>\n",
       "    </tr>\n",
       "    <tr>\n",
       "      <th>4</th>\n",
       "      <td>1244757</td>\n",
       "    </tr>\n",
       "  </tbody>\n",
       "</table>\n",
       "</div>"
      ],
      "text/plain": [
       "  visitorid\n",
       "0    593408\n",
       "1     71998\n",
       "2   1403739\n",
       "3    693797\n",
       "4   1244757"
      ]
     },
     "execution_count": 7,
     "metadata": {},
     "output_type": "execute_result"
    }
   ],
   "source": [
    "raw_prediction_users.head()"
   ]
  },
  {
   "cell_type": "code",
   "execution_count": 8,
   "metadata": {},
   "outputs": [
    {
     "name": "stdout",
     "output_type": "stream",
     "text": [
      "<class 'modin.pandas.dataframe.DataFrame'>\n",
      "RangeIndex: 174956 entries, 0 to 174955\n",
      "Data columns (total 1 columns):\n",
      " #   Column     Non-Null Count   Dtype \n",
      "---  ------     --------------   ----- \n",
      " 0   visitorid  174956 non-null  string\n",
      "dtypes: string(1)\n",
      "memory usage: 1.3 MB\n"
     ]
    },
    {
     "name": "stderr",
     "output_type": "stream",
     "text": [
      "UserWarning: `DataFrame.info` defaulting to pandas implementation.\n",
      "To request implementation, send an email to feature_requests@modin.org.\n",
      "UserWarning: Distributing <class 'pandas.core.frame.DataFrame'> object. This may take some time.\n"
     ]
    }
   ],
   "source": [
    "raw_prediction_users.info()"
   ]
  },
  {
   "cell_type": "code",
   "execution_count": 9,
   "metadata": {},
   "outputs": [
    {
     "name": "stderr",
     "output_type": "stream",
     "text": [
      "UserWarning: Parameters provided defaulting to pandas implementation.\n"
     ]
    }
   ],
   "source": [
    "# Load events\n",
    "raw_events = load_file(EVENTS_FILENAME, EVENTS_FILE_OPTIONS)        \n",
    "# Load categories\n",
    "raw_categories = load_file(CATEGORIES_FILENAME, CATEGORIES_FILE_OPTIONS)\n",
    "# Load items properties\n",
    "raw_items_properties = load_file(ITEMS_PROPERTIES_FILENAME, ITEMS_PROPERTIES_FILE_OPTIONS)"
   ]
  },
  {
   "cell_type": "code",
   "execution_count": 10,
   "metadata": {},
   "outputs": [
    {
     "name": "stderr",
     "output_type": "stream",
     "text": [
      "UserWarning: `Series.to_datetime` defaulting to pandas implementation.\n",
      "UserWarning: Distributing <class 'pandas.core.series.Series'> object. This may take some time.\n",
      "UserWarning: `Series.CombinedDatetimelikeProperties` defaulting to pandas implementation.\n"
     ]
    }
   ],
   "source": [
    "# Make timestamps readable where applicable\n",
    "raw_events.timestamp = pd.to_datetime(raw_events.timestamp,\n",
    "                                      unit='ms')\n",
    "raw_items_properties.timestamp = pd.to_datetime(raw_items_properties.timestamp,\n",
    "                                                unit='ms')\n",
    "\n",
    "# Transform timestamps and add them as a column\n",
    "raw_events['date'] = raw_events.timestamp.dt.date\n",
    "raw_items_properties['date'] = raw_items_properties.timestamp.dt.date"
   ]
  },
  {
   "cell_type": "code",
   "execution_count": 11,
   "metadata": {},
   "outputs": [
    {
     "data": {
      "text/html": [
       "<div>\n",
       "<style scoped>\n",
       "    .dataframe tbody tr th:only-of-type {\n",
       "        vertical-align: middle;\n",
       "    }\n",
       "\n",
       "    .dataframe tbody tr th {\n",
       "        vertical-align: top;\n",
       "    }\n",
       "\n",
       "    .dataframe thead th {\n",
       "        text-align: right;\n",
       "    }\n",
       "</style>\n",
       "<table border=\"1\" class=\"dataframe\">\n",
       "  <thead>\n",
       "    <tr style=\"text-align: right;\">\n",
       "      <th></th>\n",
       "      <th>timestamp</th>\n",
       "      <th>visitorid</th>\n",
       "      <th>event</th>\n",
       "      <th>itemid</th>\n",
       "      <th>transactionid</th>\n",
       "      <th>date</th>\n",
       "    </tr>\n",
       "  </thead>\n",
       "  <tbody>\n",
       "    <tr>\n",
       "      <th>0</th>\n",
       "      <td>2015-06-02 05:02:12.117</td>\n",
       "      <td>257597</td>\n",
       "      <td>view</td>\n",
       "      <td>355908</td>\n",
       "      <td>&lt;NA&gt;</td>\n",
       "      <td>2015-06-02</td>\n",
       "    </tr>\n",
       "    <tr>\n",
       "      <th>1</th>\n",
       "      <td>2015-06-02 05:50:14.164</td>\n",
       "      <td>992329</td>\n",
       "      <td>view</td>\n",
       "      <td>248676</td>\n",
       "      <td>&lt;NA&gt;</td>\n",
       "      <td>2015-06-02</td>\n",
       "    </tr>\n",
       "    <tr>\n",
       "      <th>2</th>\n",
       "      <td>2015-06-02 05:13:19.827</td>\n",
       "      <td>111016</td>\n",
       "      <td>view</td>\n",
       "      <td>318965</td>\n",
       "      <td>&lt;NA&gt;</td>\n",
       "      <td>2015-06-02</td>\n",
       "    </tr>\n",
       "    <tr>\n",
       "      <th>3</th>\n",
       "      <td>2015-06-02 05:12:35.914</td>\n",
       "      <td>483717</td>\n",
       "      <td>view</td>\n",
       "      <td>253185</td>\n",
       "      <td>&lt;NA&gt;</td>\n",
       "      <td>2015-06-02</td>\n",
       "    </tr>\n",
       "    <tr>\n",
       "      <th>4</th>\n",
       "      <td>2015-06-02 05:02:17.106</td>\n",
       "      <td>951259</td>\n",
       "      <td>view</td>\n",
       "      <td>367447</td>\n",
       "      <td>&lt;NA&gt;</td>\n",
       "      <td>2015-06-02</td>\n",
       "    </tr>\n",
       "  </tbody>\n",
       "</table>\n",
       "</div>"
      ],
      "text/plain": [
       "                timestamp visitorid event  itemid transactionid        date\n",
       "0 2015-06-02 05:02:12.117    257597  view  355908          <NA>  2015-06-02\n",
       "1 2015-06-02 05:50:14.164    992329  view  248676          <NA>  2015-06-02\n",
       "2 2015-06-02 05:13:19.827    111016  view  318965          <NA>  2015-06-02\n",
       "3 2015-06-02 05:12:35.914    483717  view  253185          <NA>  2015-06-02\n",
       "4 2015-06-02 05:02:17.106    951259  view  367447          <NA>  2015-06-02"
      ]
     },
     "execution_count": 11,
     "metadata": {},
     "output_type": "execute_result"
    }
   ],
   "source": [
    "raw_events.head()"
   ]
  },
  {
   "cell_type": "code",
   "execution_count": 12,
   "metadata": {},
   "outputs": [
    {
     "name": "stderr",
     "output_type": "stream",
     "text": [
      "UserWarning: `DataFrame.info` defaulting to pandas implementation.\n",
      "UserWarning: Distributing <class 'pandas.core.frame.DataFrame'> object. This may take some time.\n"
     ]
    },
    {
     "name": "stdout",
     "output_type": "stream",
     "text": [
      "<class 'modin.pandas.dataframe.DataFrame'>\n",
      "RangeIndex: 2756101 entries, 0 to 2756100\n",
      "Data columns (total 6 columns):\n",
      " #   Column         Dtype         \n",
      "---  ------         -----         \n",
      " 0   timestamp      datetime64[ns]\n",
      " 1   visitorid      string        \n",
      " 2   event          string        \n",
      " 3   itemid         string        \n",
      " 4   transactionid  string        \n",
      " 5   date           object        \n",
      "dtypes: datetime64[ns](1), object(1), string(4)\n",
      "memory usage: 126.2+ MB\n"
     ]
    }
   ],
   "source": [
    "raw_events.info()"
   ]
  },
  {
   "cell_type": "code",
   "execution_count": 13,
   "metadata": {},
   "outputs": [
    {
     "data": {
      "text/html": [
       "<div>\n",
       "<style scoped>\n",
       "    .dataframe tbody tr th:only-of-type {\n",
       "        vertical-align: middle;\n",
       "    }\n",
       "\n",
       "    .dataframe tbody tr th {\n",
       "        vertical-align: top;\n",
       "    }\n",
       "\n",
       "    .dataframe thead th {\n",
       "        text-align: right;\n",
       "    }\n",
       "</style>\n",
       "<table border=\"1\" class=\"dataframe\">\n",
       "  <thead>\n",
       "    <tr style=\"text-align: right;\">\n",
       "      <th></th>\n",
       "      <th>timestamp</th>\n",
       "      <th>visitorid</th>\n",
       "      <th>event</th>\n",
       "      <th>itemid</th>\n",
       "      <th>transactionid</th>\n",
       "      <th>date</th>\n",
       "    </tr>\n",
       "  </thead>\n",
       "  <tbody>\n",
       "    <tr>\n",
       "      <th>count</th>\n",
       "      <td>2756101</td>\n",
       "      <td>2756101</td>\n",
       "      <td>2756101</td>\n",
       "      <td>2756101</td>\n",
       "      <td>22457</td>\n",
       "      <td>2756101</td>\n",
       "    </tr>\n",
       "    <tr>\n",
       "      <th>unique</th>\n",
       "      <td>2750455</td>\n",
       "      <td>1407580</td>\n",
       "      <td>3</td>\n",
       "      <td>235061</td>\n",
       "      <td>17672</td>\n",
       "      <td>139</td>\n",
       "    </tr>\n",
       "    <tr>\n",
       "      <th>top</th>\n",
       "      <td>2015-06-17 19:13:47.120000</td>\n",
       "      <td>1150086</td>\n",
       "      <td>view</td>\n",
       "      <td>187946</td>\n",
       "      <td>7063</td>\n",
       "      <td>2015-07-26</td>\n",
       "    </tr>\n",
       "    <tr>\n",
       "      <th>freq</th>\n",
       "      <td>6</td>\n",
       "      <td>7757</td>\n",
       "      <td>2664312</td>\n",
       "      <td>3412</td>\n",
       "      <td>31</td>\n",
       "      <td>32703</td>\n",
       "    </tr>\n",
       "    <tr>\n",
       "      <th>first</th>\n",
       "      <td>2015-05-03 03:00:04.384000</td>\n",
       "      <td>NaN</td>\n",
       "      <td>NaN</td>\n",
       "      <td>NaN</td>\n",
       "      <td>NaN</td>\n",
       "      <td>NaN</td>\n",
       "    </tr>\n",
       "    <tr>\n",
       "      <th>last</th>\n",
       "      <td>2015-09-18 02:59:47.788000</td>\n",
       "      <td>NaN</td>\n",
       "      <td>NaN</td>\n",
       "      <td>NaN</td>\n",
       "      <td>NaN</td>\n",
       "      <td>NaN</td>\n",
       "    </tr>\n",
       "  </tbody>\n",
       "</table>\n",
       "</div>"
      ],
      "text/plain": [
       "                         timestamp visitorid    event   itemid transactionid  \\\n",
       "count                      2756101   2756101  2756101  2756101         22457   \n",
       "unique                     2750455   1407580        3   235061         17672   \n",
       "top     2015-06-17 19:13:47.120000   1150086     view   187946          7063   \n",
       "freq                             6      7757  2664312     3412            31   \n",
       "first   2015-05-03 03:00:04.384000       NaN      NaN      NaN           NaN   \n",
       "last    2015-09-18 02:59:47.788000       NaN      NaN      NaN           NaN   \n",
       "\n",
       "              date  \n",
       "count      2756101  \n",
       "unique         139  \n",
       "top     2015-07-26  \n",
       "freq         32703  \n",
       "first          NaN  \n",
       "last           NaN  "
      ]
     },
     "execution_count": 13,
     "metadata": {},
     "output_type": "execute_result"
    }
   ],
   "source": [
    "raw_events._to_pandas().describe()"
   ]
  },
  {
   "cell_type": "code",
   "execution_count": 14,
   "metadata": {},
   "outputs": [
    {
     "data": {
      "text/html": [
       "<div>\n",
       "<style scoped>\n",
       "    .dataframe tbody tr th:only-of-type {\n",
       "        vertical-align: middle;\n",
       "    }\n",
       "\n",
       "    .dataframe tbody tr th {\n",
       "        vertical-align: top;\n",
       "    }\n",
       "\n",
       "    .dataframe thead th {\n",
       "        text-align: right;\n",
       "    }\n",
       "</style>\n",
       "<table border=\"1\" class=\"dataframe\">\n",
       "  <thead>\n",
       "    <tr style=\"text-align: right;\">\n",
       "      <th></th>\n",
       "      <th>categoryid</th>\n",
       "      <th>parentid</th>\n",
       "    </tr>\n",
       "  </thead>\n",
       "  <tbody>\n",
       "    <tr>\n",
       "      <th>0</th>\n",
       "      <td>1016</td>\n",
       "      <td>213</td>\n",
       "    </tr>\n",
       "    <tr>\n",
       "      <th>1</th>\n",
       "      <td>809</td>\n",
       "      <td>169</td>\n",
       "    </tr>\n",
       "    <tr>\n",
       "      <th>2</th>\n",
       "      <td>570</td>\n",
       "      <td>9</td>\n",
       "    </tr>\n",
       "    <tr>\n",
       "      <th>3</th>\n",
       "      <td>1691</td>\n",
       "      <td>885</td>\n",
       "    </tr>\n",
       "    <tr>\n",
       "      <th>4</th>\n",
       "      <td>536</td>\n",
       "      <td>1691</td>\n",
       "    </tr>\n",
       "  </tbody>\n",
       "</table>\n",
       "</div>"
      ],
      "text/plain": [
       "  categoryid parentid\n",
       "0       1016      213\n",
       "1        809      169\n",
       "2        570        9\n",
       "3       1691      885\n",
       "4        536     1691"
      ]
     },
     "execution_count": 14,
     "metadata": {},
     "output_type": "execute_result"
    }
   ],
   "source": [
    "raw_categories.head()"
   ]
  },
  {
   "cell_type": "code",
   "execution_count": 15,
   "metadata": {},
   "outputs": [
    {
     "name": "stdout",
     "output_type": "stream",
     "text": [
      "<class 'modin.pandas.dataframe.DataFrame'>\n",
      "RangeIndex: 1669 entries, 0 to 1668\n",
      "Data columns (total 2 columns):\n",
      " #   Column      Non-Null Count  Dtype \n",
      "---  ------      --------------  ----- \n",
      " 0   categoryid  1669 non-null   string\n",
      " 1   parentid    1644 non-null   string\n",
      "dtypes: string(2)\n",
      "memory usage: 26.2 KB\n"
     ]
    },
    {
     "name": "stderr",
     "output_type": "stream",
     "text": [
      "UserWarning: `DataFrame.info` defaulting to pandas implementation.\n",
      "UserWarning: Distributing <class 'pandas.core.frame.DataFrame'> object. This may take some time.\n"
     ]
    }
   ],
   "source": [
    "raw_categories.info()"
   ]
  },
  {
   "cell_type": "code",
   "execution_count": 16,
   "metadata": {},
   "outputs": [
    {
     "data": {
      "text/html": [
       "<div>\n",
       "<style scoped>\n",
       "    .dataframe tbody tr th:only-of-type {\n",
       "        vertical-align: middle;\n",
       "    }\n",
       "\n",
       "    .dataframe tbody tr th {\n",
       "        vertical-align: top;\n",
       "    }\n",
       "\n",
       "    .dataframe thead th {\n",
       "        text-align: right;\n",
       "    }\n",
       "</style>\n",
       "<table border=\"1\" class=\"dataframe\">\n",
       "  <thead>\n",
       "    <tr style=\"text-align: right;\">\n",
       "      <th></th>\n",
       "      <th>categoryid</th>\n",
       "      <th>parentid</th>\n",
       "    </tr>\n",
       "  </thead>\n",
       "  <tbody>\n",
       "    <tr>\n",
       "      <th>count</th>\n",
       "      <td>1669</td>\n",
       "      <td>1644</td>\n",
       "    </tr>\n",
       "    <tr>\n",
       "      <th>unique</th>\n",
       "      <td>1669</td>\n",
       "      <td>362</td>\n",
       "    </tr>\n",
       "    <tr>\n",
       "      <th>top</th>\n",
       "      <td>587</td>\n",
       "      <td>250</td>\n",
       "    </tr>\n",
       "    <tr>\n",
       "      <th>freq</th>\n",
       "      <td>1</td>\n",
       "      <td>31</td>\n",
       "    </tr>\n",
       "  </tbody>\n",
       "</table>\n",
       "</div>"
      ],
      "text/plain": [
       "       categoryid parentid\n",
       "count        1669     1644\n",
       "unique       1669      362\n",
       "top           587      250\n",
       "freq            1       31"
      ]
     },
     "execution_count": 16,
     "metadata": {},
     "output_type": "execute_result"
    }
   ],
   "source": [
    "raw_categories._to_pandas().describe()"
   ]
  },
  {
   "cell_type": "code",
   "execution_count": 17,
   "metadata": {},
   "outputs": [
    {
     "data": {
      "text/html": [
       "<div>\n",
       "<style scoped>\n",
       "    .dataframe tbody tr th:only-of-type {\n",
       "        vertical-align: middle;\n",
       "    }\n",
       "\n",
       "    .dataframe tbody tr th {\n",
       "        vertical-align: top;\n",
       "    }\n",
       "\n",
       "    .dataframe thead th {\n",
       "        text-align: right;\n",
       "    }\n",
       "</style>\n",
       "<table border=\"1\" class=\"dataframe\">\n",
       "  <thead>\n",
       "    <tr style=\"text-align: right;\">\n",
       "      <th></th>\n",
       "      <th>timestamp</th>\n",
       "      <th>itemid</th>\n",
       "      <th>property</th>\n",
       "      <th>value</th>\n",
       "      <th>date</th>\n",
       "    </tr>\n",
       "  </thead>\n",
       "  <tbody>\n",
       "    <tr>\n",
       "      <th>0</th>\n",
       "      <td>2015-06-28 03:00:00</td>\n",
       "      <td>460429</td>\n",
       "      <td>categoryid</td>\n",
       "      <td>1338</td>\n",
       "      <td>2015-06-28</td>\n",
       "    </tr>\n",
       "    <tr>\n",
       "      <th>1</th>\n",
       "      <td>2015-09-06 03:00:00</td>\n",
       "      <td>206783</td>\n",
       "      <td>888</td>\n",
       "      <td>1116713 960601 n277.200</td>\n",
       "      <td>2015-09-06</td>\n",
       "    </tr>\n",
       "    <tr>\n",
       "      <th>2</th>\n",
       "      <td>2015-08-09 03:00:00</td>\n",
       "      <td>395014</td>\n",
       "      <td>400</td>\n",
       "      <td>n552.000 639502 n720.000 424566</td>\n",
       "      <td>2015-08-09</td>\n",
       "    </tr>\n",
       "    <tr>\n",
       "      <th>3</th>\n",
       "      <td>2015-05-10 03:00:00</td>\n",
       "      <td>59481</td>\n",
       "      <td>790</td>\n",
       "      <td>n15360.000</td>\n",
       "      <td>2015-05-10</td>\n",
       "    </tr>\n",
       "    <tr>\n",
       "      <th>4</th>\n",
       "      <td>2015-05-17 03:00:00</td>\n",
       "      <td>156781</td>\n",
       "      <td>917</td>\n",
       "      <td>828513</td>\n",
       "      <td>2015-05-17</td>\n",
       "    </tr>\n",
       "  </tbody>\n",
       "</table>\n",
       "</div>"
      ],
      "text/plain": [
       "            timestamp  itemid    property                            value  \\\n",
       "0 2015-06-28 03:00:00  460429  categoryid                             1338   \n",
       "1 2015-09-06 03:00:00  206783         888          1116713 960601 n277.200   \n",
       "2 2015-08-09 03:00:00  395014         400  n552.000 639502 n720.000 424566   \n",
       "3 2015-05-10 03:00:00   59481         790                       n15360.000   \n",
       "4 2015-05-17 03:00:00  156781         917                           828513   \n",
       "\n",
       "         date  \n",
       "0  2015-06-28  \n",
       "1  2015-09-06  \n",
       "2  2015-08-09  \n",
       "3  2015-05-10  \n",
       "4  2015-05-17  "
      ]
     },
     "execution_count": 17,
     "metadata": {},
     "output_type": "execute_result"
    }
   ],
   "source": [
    "raw_items_properties.head()"
   ]
  },
  {
   "cell_type": "code",
   "execution_count": 18,
   "metadata": {},
   "outputs": [
    {
     "name": "stderr",
     "output_type": "stream",
     "text": [
      "UserWarning: `DataFrame.info` defaulting to pandas implementation.\n",
      "UserWarning: Distributing <class 'pandas.core.frame.DataFrame'> object. This may take some time.\n"
     ]
    },
    {
     "name": "stdout",
     "output_type": "stream",
     "text": [
      "<class 'modin.pandas.dataframe.DataFrame'>\n",
      "RangeIndex: 20275902 entries, 0 to 20275901\n",
      "Data columns (total 5 columns):\n",
      " #   Column     Dtype         \n",
      "---  ------     -----         \n",
      " 0   timestamp  datetime64[ns]\n",
      " 1   itemid     string        \n",
      " 2   property   string        \n",
      " 3   value      object        \n",
      " 4   date       object        \n",
      "dtypes: datetime64[ns](1), object(2), string(2)\n",
      "memory usage: 773.5+ MB\n"
     ]
    }
   ],
   "source": [
    "raw_items_properties.info()"
   ]
  },
  {
   "cell_type": "code",
   "execution_count": 19,
   "metadata": {},
   "outputs": [
    {
     "data": {
      "text/html": [
       "<div>\n",
       "<style scoped>\n",
       "    .dataframe tbody tr th:only-of-type {\n",
       "        vertical-align: middle;\n",
       "    }\n",
       "\n",
       "    .dataframe tbody tr th {\n",
       "        vertical-align: top;\n",
       "    }\n",
       "\n",
       "    .dataframe thead th {\n",
       "        text-align: right;\n",
       "    }\n",
       "</style>\n",
       "<table border=\"1\" class=\"dataframe\">\n",
       "  <thead>\n",
       "    <tr style=\"text-align: right;\">\n",
       "      <th></th>\n",
       "      <th>timestamp</th>\n",
       "      <th>itemid</th>\n",
       "      <th>property</th>\n",
       "      <th>value</th>\n",
       "      <th>date</th>\n",
       "    </tr>\n",
       "  </thead>\n",
       "  <tbody>\n",
       "    <tr>\n",
       "      <th>count</th>\n",
       "      <td>20275902</td>\n",
       "      <td>20275902</td>\n",
       "      <td>20275902</td>\n",
       "      <td>20275902</td>\n",
       "      <td>20275902</td>\n",
       "    </tr>\n",
       "    <tr>\n",
       "      <th>unique</th>\n",
       "      <td>18</td>\n",
       "      <td>417053</td>\n",
       "      <td>1104</td>\n",
       "      <td>1966868</td>\n",
       "      <td>18</td>\n",
       "    </tr>\n",
       "    <tr>\n",
       "      <th>top</th>\n",
       "      <td>2015-05-10 03:00:00</td>\n",
       "      <td>158903</td>\n",
       "      <td>888</td>\n",
       "      <td>769062</td>\n",
       "      <td>2015-05-10</td>\n",
       "    </tr>\n",
       "    <tr>\n",
       "      <th>freq</th>\n",
       "      <td>3012756</td>\n",
       "      <td>468</td>\n",
       "      <td>3000398</td>\n",
       "      <td>1537247</td>\n",
       "      <td>3012756</td>\n",
       "    </tr>\n",
       "    <tr>\n",
       "      <th>first</th>\n",
       "      <td>2015-05-10 03:00:00</td>\n",
       "      <td>NaN</td>\n",
       "      <td>NaN</td>\n",
       "      <td>NaN</td>\n",
       "      <td>NaN</td>\n",
       "    </tr>\n",
       "    <tr>\n",
       "      <th>last</th>\n",
       "      <td>2015-09-13 03:00:00</td>\n",
       "      <td>NaN</td>\n",
       "      <td>NaN</td>\n",
       "      <td>NaN</td>\n",
       "      <td>NaN</td>\n",
       "    </tr>\n",
       "  </tbody>\n",
       "</table>\n",
       "</div>"
      ],
      "text/plain": [
       "                  timestamp    itemid  property     value        date\n",
       "count              20275902  20275902  20275902  20275902    20275902\n",
       "unique                   18    417053      1104   1966868          18\n",
       "top     2015-05-10 03:00:00    158903       888    769062  2015-05-10\n",
       "freq                3012756       468   3000398   1537247     3012756\n",
       "first   2015-05-10 03:00:00       NaN       NaN       NaN         NaN\n",
       "last    2015-09-13 03:00:00       NaN       NaN       NaN         NaN"
      ]
     },
     "execution_count": 19,
     "metadata": {},
     "output_type": "execute_result"
    }
   ],
   "source": [
    "raw_items_properties._to_pandas().describe()"
   ]
  },
  {
   "cell_type": "code",
   "execution_count": 20,
   "metadata": {},
   "outputs": [
    {
     "name": "stderr",
     "output_type": "stream",
     "text": [
      "UserWarning: `Series.unique` defaulting to pandas implementation.\n"
     ]
    }
   ],
   "source": [
    "event_begin_timestamp = raw_events.timestamp.min()\n",
    "event_end_timestamp = raw_events.timestamp.max()\n",
    "\n",
    "num_users = raw_events.visitorid.nunique()\n",
    "num_items = raw_events.itemid.nunique()\n",
    "\n",
    "num_users_with_transactions = raw_events[raw_events.event == 'transaction'].visitorid.nunique()\n",
    "num_items_with_transactions = raw_events[raw_events.event == 'transaction'].itemid.nunique()\n",
    "\n",
    "item_lowest_price = raw_events[raw_events.event == 'transaction'].transactionid.min()\n",
    "item_highest_price = raw_events[raw_events.event == 'transaction'].transactionid.max()\n",
    "\n",
    "prediction_users = list(raw_prediction_users.visitorid.unique())"
   ]
  },
  {
   "cell_type": "markdown",
   "metadata": {},
   "source": [
    "### (Some) exploratory analysis\n",
    "\n"
   ]
  },
  {
   "cell_type": "code",
   "execution_count": 21,
   "metadata": {},
   "outputs": [
    {
     "data": {
      "text/html": [
       "<div>\n",
       "<style scoped>\n",
       "    .dataframe tbody tr th:only-of-type {\n",
       "        vertical-align: middle;\n",
       "    }\n",
       "\n",
       "    .dataframe tbody tr th {\n",
       "        vertical-align: top;\n",
       "    }\n",
       "\n",
       "    .dataframe thead th {\n",
       "        text-align: right;\n",
       "    }\n",
       "</style>\n",
       "<table border=\"1\" class=\"dataframe\">\n",
       "  <thead>\n",
       "    <tr style=\"text-align: right;\">\n",
       "      <th></th>\n",
       "      <th>timestamp</th>\n",
       "      <th>visitorid</th>\n",
       "      <th>event</th>\n",
       "      <th>itemid</th>\n",
       "      <th>transactionid</th>\n",
       "      <th>date</th>\n",
       "    </tr>\n",
       "  </thead>\n",
       "  <tbody>\n",
       "    <tr>\n",
       "      <th>10229</th>\n",
       "      <td>2015-06-02 01:27:26.427</td>\n",
       "      <td>404403</td>\n",
       "      <td>view</td>\n",
       "      <td>114137</td>\n",
       "      <td>&lt;NA&gt;</td>\n",
       "      <td>2015-06-02</td>\n",
       "    </tr>\n",
       "    <tr>\n",
       "      <th>2518960</th>\n",
       "      <td>2015-07-23 04:37:15.062</td>\n",
       "      <td>803275</td>\n",
       "      <td>view</td>\n",
       "      <td>24388</td>\n",
       "      <td>&lt;NA&gt;</td>\n",
       "      <td>2015-07-23</td>\n",
       "    </tr>\n",
       "    <tr>\n",
       "      <th>2172851</th>\n",
       "      <td>2015-07-07 03:39:33.813</td>\n",
       "      <td>69734</td>\n",
       "      <td>view</td>\n",
       "      <td>43677</td>\n",
       "      <td>&lt;NA&gt;</td>\n",
       "      <td>2015-07-07</td>\n",
       "    </tr>\n",
       "    <tr>\n",
       "      <th>2323969</th>\n",
       "      <td>2015-07-14 00:53:04.033</td>\n",
       "      <td>1297408</td>\n",
       "      <td>view</td>\n",
       "      <td>303337</td>\n",
       "      <td>&lt;NA&gt;</td>\n",
       "      <td>2015-07-14</td>\n",
       "    </tr>\n",
       "    <tr>\n",
       "      <th>952968</th>\n",
       "      <td>2015-08-19 23:03:23.613</td>\n",
       "      <td>1178868</td>\n",
       "      <td>view</td>\n",
       "      <td>326900</td>\n",
       "      <td>&lt;NA&gt;</td>\n",
       "      <td>2015-08-19</td>\n",
       "    </tr>\n",
       "    <tr>\n",
       "      <th>2502166</th>\n",
       "      <td>2015-07-22 01:01:23.472</td>\n",
       "      <td>1369111</td>\n",
       "      <td>view</td>\n",
       "      <td>20122</td>\n",
       "      <td>&lt;NA&gt;</td>\n",
       "      <td>2015-07-22</td>\n",
       "    </tr>\n",
       "    <tr>\n",
       "      <th>1914234</th>\n",
       "      <td>2015-05-25 16:54:32.866</td>\n",
       "      <td>85734</td>\n",
       "      <td>view</td>\n",
       "      <td>434825</td>\n",
       "      <td>&lt;NA&gt;</td>\n",
       "      <td>2015-05-25</td>\n",
       "    </tr>\n",
       "    <tr>\n",
       "      <th>429359</th>\n",
       "      <td>2015-06-22 06:36:48.128</td>\n",
       "      <td>298252</td>\n",
       "      <td>view</td>\n",
       "      <td>444509</td>\n",
       "      <td>&lt;NA&gt;</td>\n",
       "      <td>2015-06-22</td>\n",
       "    </tr>\n",
       "    <tr>\n",
       "      <th>1289014</th>\n",
       "      <td>2015-09-09 01:57:17.857</td>\n",
       "      <td>748708</td>\n",
       "      <td>view</td>\n",
       "      <td>154623</td>\n",
       "      <td>&lt;NA&gt;</td>\n",
       "      <td>2015-09-09</td>\n",
       "    </tr>\n",
       "    <tr>\n",
       "      <th>1478943</th>\n",
       "      <td>2015-05-03 22:18:07.204</td>\n",
       "      <td>332832</td>\n",
       "      <td>view</td>\n",
       "      <td>78494</td>\n",
       "      <td>&lt;NA&gt;</td>\n",
       "      <td>2015-05-03</td>\n",
       "    </tr>\n",
       "  </tbody>\n",
       "</table>\n",
       "</div>"
      ],
      "text/plain": [
       "                      timestamp visitorid event  itemid transactionid  \\\n",
       "10229   2015-06-02 01:27:26.427    404403  view  114137          <NA>   \n",
       "2518960 2015-07-23 04:37:15.062    803275  view   24388          <NA>   \n",
       "2172851 2015-07-07 03:39:33.813     69734  view   43677          <NA>   \n",
       "2323969 2015-07-14 00:53:04.033   1297408  view  303337          <NA>   \n",
       "952968  2015-08-19 23:03:23.613   1178868  view  326900          <NA>   \n",
       "2502166 2015-07-22 01:01:23.472   1369111  view   20122          <NA>   \n",
       "1914234 2015-05-25 16:54:32.866     85734  view  434825          <NA>   \n",
       "429359  2015-06-22 06:36:48.128    298252  view  444509          <NA>   \n",
       "1289014 2015-09-09 01:57:17.857    748708  view  154623          <NA>   \n",
       "1478943 2015-05-03 22:18:07.204    332832  view   78494          <NA>   \n",
       "\n",
       "               date  \n",
       "10229    2015-06-02  \n",
       "2518960  2015-07-23  \n",
       "2172851  2015-07-07  \n",
       "2323969  2015-07-14  \n",
       "952968   2015-08-19  \n",
       "2502166  2015-07-22  \n",
       "1914234  2015-05-25  \n",
       "429359   2015-06-22  \n",
       "1289014  2015-09-09  \n",
       "1478943  2015-05-03  "
      ]
     },
     "execution_count": 21,
     "metadata": {},
     "output_type": "execute_result"
    }
   ],
   "source": [
    "# Let's peak on some rows\n",
    "raw_events.sample(n=10)"
   ]
  },
  {
   "cell_type": "markdown",
   "metadata": {},
   "source": [
    "`visitorid` is a unique identifier for the user that is browsing the e-commerce site.\n",
    "`event` is the type of activity that the user browsing the site can perform, namely, \"view\", \"addtocart\", \"transaction\".\n",
    "`timestamp` is the date/time, in UNIX time format, when the user performs the corresponding `event`.\n",
    "`transactionid` is an identifier linked to the type of `event`: \"transaction\" and implies a purchase by the user in the e-commerce site.\n",
    "\n",
    "Note that the `timestamp` has also been converted to a 'readable' form as `date` for convenience."
   ]
  },
  {
   "cell_type": "markdown",
   "metadata": {},
   "source": [
    "#### Events"
   ]
  },
  {
   "cell_type": "code",
   "execution_count": 22,
   "metadata": {},
   "outputs": [
    {
     "data": {
      "text/plain": [
       "<matplotlib.axes._subplots.AxesSubplot at 0x42a5b0610>"
      ]
     },
     "execution_count": 22,
     "metadata": {},
     "output_type": "execute_result"
    },
    {
     "data": {
      "image/png": "[encoded data removed]",
      "text/plain": [
       "<Figure size 1152x576 with 1 Axes>"
      ]
     },
     "metadata": {},
     "output_type": "display_data"
    }
   ],
   "source": [
    "fig, ax = plt.subplots(ncols=1, figsize=(16, 8)) # Sample figsize in inches\n",
    "sns.countplot(x='event',\n",
    "              data=raw_events._to_pandas(),\n",
    "              palette=\"pastel\")"
   ]
  },
  {
   "cell_type": "code",
   "execution_count": 23,
   "metadata": {},
   "outputs": [
    {
     "name": "stderr",
     "output_type": "stream",
     "text": [
      "UserWarning: Multi-column groupby is a new feature. Please report any bugs/issues to bug_reports@modin.org.\n",
      "UserWarning: `DataFrame.groupby_on_multiple_columns` defaulting to pandas implementation.\n"
     ]
    },
    {
     "data": {
      "text/plain": [
       "event\n",
       "addtocart        69332\n",
       "transaction      22457\n",
       "view           2664312\n",
       "Name: event, dtype: int64"
      ]
     },
     "execution_count": 23,
     "metadata": {},
     "output_type": "execute_result"
    }
   ],
   "source": [
    "raw_events.groupby(['event']).event.count()"
   ]
  },
  {
   "cell_type": "markdown",
   "metadata": {},
   "source": [
    "The number of events of type `transaction` is minimal compared to the other types of events, `addtocart` and `view`.\n",
    "\n",
    "Such indicator means that while considering only actual purchases, i.e., event type `transaction`, for a recommendations of products bought together, there is some good reasons to include the other type of events. However, mixing types of events changes the semantics of the recommendations (e.g., from \"other customers bought X when buying Y\" to \"other customers added/viewed X when buying Y\").\n",
    "\n",
    "Another conclusion from this could be to also understand the reasons (or factors) that would lead a customer to purchase something. One potential way would be to analyze all events per customer up to a purchase of something because that would establish a link between the purchased `itemid` and all other `itemid` that the customers saw and/or added but never purchased."
   ]
  },
  {
   "cell_type": "code",
   "execution_count": 24,
   "metadata": {},
   "outputs": [
    {
     "data": {
      "text/html": [
       "<div>\n",
       "<style scoped>\n",
       "    .dataframe tbody tr th:only-of-type {\n",
       "        vertical-align: middle;\n",
       "    }\n",
       "\n",
       "    .dataframe tbody tr th {\n",
       "        vertical-align: top;\n",
       "    }\n",
       "\n",
       "    .dataframe thead th {\n",
       "        text-align: right;\n",
       "    }\n",
       "</style>\n",
       "<table border=\"1\" class=\"dataframe\">\n",
       "  <thead>\n",
       "    <tr style=\"text-align: right;\">\n",
       "      <th></th>\n",
       "      <th>timestamp</th>\n",
       "      <th>visitorid</th>\n",
       "      <th>event</th>\n",
       "      <th>itemid</th>\n",
       "      <th>transactionid</th>\n",
       "      <th>date</th>\n",
       "    </tr>\n",
       "  </thead>\n",
       "  <tbody>\n",
       "    <tr>\n",
       "      <th>count</th>\n",
       "      <td>2756101</td>\n",
       "      <td>2756101</td>\n",
       "      <td>2756101</td>\n",
       "      <td>2756101</td>\n",
       "      <td>22457</td>\n",
       "      <td>2756101</td>\n",
       "    </tr>\n",
       "    <tr>\n",
       "      <th>unique</th>\n",
       "      <td>2750455</td>\n",
       "      <td>1407580</td>\n",
       "      <td>3</td>\n",
       "      <td>235061</td>\n",
       "      <td>17672</td>\n",
       "      <td>139</td>\n",
       "    </tr>\n",
       "    <tr>\n",
       "      <th>top</th>\n",
       "      <td>2015-06-17 19:13:47.120000</td>\n",
       "      <td>1150086</td>\n",
       "      <td>view</td>\n",
       "      <td>187946</td>\n",
       "      <td>7063</td>\n",
       "      <td>2015-07-26</td>\n",
       "    </tr>\n",
       "    <tr>\n",
       "      <th>freq</th>\n",
       "      <td>6</td>\n",
       "      <td>7757</td>\n",
       "      <td>2664312</td>\n",
       "      <td>3412</td>\n",
       "      <td>31</td>\n",
       "      <td>32703</td>\n",
       "    </tr>\n",
       "    <tr>\n",
       "      <th>first</th>\n",
       "      <td>2015-05-03 03:00:04.384000</td>\n",
       "      <td>NaN</td>\n",
       "      <td>NaN</td>\n",
       "      <td>NaN</td>\n",
       "      <td>NaN</td>\n",
       "      <td>NaN</td>\n",
       "    </tr>\n",
       "    <tr>\n",
       "      <th>last</th>\n",
       "      <td>2015-09-18 02:59:47.788000</td>\n",
       "      <td>NaN</td>\n",
       "      <td>NaN</td>\n",
       "      <td>NaN</td>\n",
       "      <td>NaN</td>\n",
       "      <td>NaN</td>\n",
       "    </tr>\n",
       "  </tbody>\n",
       "</table>\n",
       "</div>"
      ],
      "text/plain": [
       "                         timestamp visitorid    event   itemid transactionid  \\\n",
       "count                      2756101   2756101  2756101  2756101         22457   \n",
       "unique                     2750455   1407580        3   235061         17672   \n",
       "top     2015-06-17 19:13:47.120000   1150086     view   187946          7063   \n",
       "freq                             6      7757  2664312     3412            31   \n",
       "first   2015-05-03 03:00:04.384000       NaN      NaN      NaN           NaN   \n",
       "last    2015-09-18 02:59:47.788000       NaN      NaN      NaN           NaN   \n",
       "\n",
       "              date  \n",
       "count      2756101  \n",
       "unique         139  \n",
       "top     2015-07-26  \n",
       "freq         32703  \n",
       "first          NaN  \n",
       "last           NaN  "
      ]
     },
     "execution_count": 24,
     "metadata": {},
     "output_type": "execute_result"
    }
   ],
   "source": [
    "raw_events._to_pandas().describe()"
   ]
  },
  {
   "cell_type": "markdown",
   "metadata": {},
   "source": [
    "While there are plenty of events, the number of customers, i.e., `visitorid`, seem to show that on average each customer carries out nearly 2 events in the period of the dataset.\n",
    "\n",
    "Similarly, the number of actual purchases, i.e., `transactionid`, seem to be quite unique with barely 5000 repeating within the total of `transactionid`. "
   ]
  },
  {
   "cell_type": "markdown",
   "metadata": {},
   "source": [
    "#### Items"
   ]
  },
  {
   "cell_type": "code",
   "execution_count": 27,
   "metadata": {},
   "outputs": [
    {
     "name": "stdout",
     "output_type": "stream",
     "text": [
      "Items that appear less than    2 times: 31.31%\n",
      "Items that appear less than    5 times: 61.31%\n",
      "Items that appear less than   10 times: 76.55%\n",
      "Items that appear less than   25 times: 89.6%\n",
      "Items that appear less than   50 times: 95.25%\n",
      "Items that appear less than  100 times: 98.2%\n",
      "Items that appear less than 1000 times: 99.98%\n"
     ]
    }
   ],
   "source": [
    "items = raw_events._to_pandas().itemid.value_counts()\n",
    "for i in [2, 5, 10, 25, 50, 100, 1000]:\n",
    "    print('Items that appear less than {:>4} times: {}%'.format(i, round((items < i).mean() * 100, 2)))"
   ]
  },
  {
   "cell_type": "code",
   "execution_count": 28,
   "metadata": {},
   "outputs": [
    {
     "data": {
      "image/png": "[encoded data removed]",
      "text/plain": [
       "<Figure size 1152x576 with 1 Axes>"
      ]
     },
     "metadata": {},
     "output_type": "display_data"
    }
   ],
   "source": [
    "fig, ax = plt.subplots(ncols=1, figsize=(16, 8)) # Sample figsize in inches\n",
    "plt.hist(items.values, bins=50, log=True)\n",
    "plt.xlabel('Number of times an item is viewed, added to the cart or bought', fontsize=16)\n",
    "plt.ylabel('log(Count of displays per item)', fontsize=16)\n",
    "plt.show()"
   ]
  },
  {
   "cell_type": "markdown",
   "metadata": {},
   "source": [
    "It is easy to see that most items, about 75%, are viewed, bought or added to the cart less than 5 times. With a big chunk of them, about 50%, only considered once or twice."
   ]
  },
  {
   "cell_type": "markdown",
   "metadata": {},
   "source": [
    "#### Visitors"
   ]
  },
  {
   "cell_type": "code",
   "execution_count": 29,
   "metadata": {},
   "outputs": [
    {
     "name": "stdout",
     "output_type": "stream",
     "text": [
      "Visitors that appear less than    2 times: 71.15%\n",
      "Visitors that appear less than    5 times: 94.2%\n",
      "Visitors that appear less than   10 times: 98.35%\n",
      "Visitors that appear less than   25 times: 99.69%\n",
      "Visitors that appear less than   50 times: 99.91%\n",
      "Visitors that appear less than  100 times: 99.97%\n",
      "Visitors that appear less than 1000 times: 100.0%\n"
     ]
    }
   ],
   "source": [
    "visitors = raw_events._to_pandas().visitorid.value_counts()\n",
    "for i in [2, 5, 10, 25, 50, 100, 1000]:\n",
    "    print('Visitors that appear less than {:>4} times: {}%'.format(i, round((visitors < i).mean() * 100, 2)))"
   ]
  },
  {
   "cell_type": "code",
   "execution_count": 30,
   "metadata": {},
   "outputs": [
    {
     "data": {
      "image/png": "[encoded data removed]",
      "text/plain": [
       "<Figure size 1152x576 with 1 Axes>"
      ]
     },
     "metadata": {},
     "output_type": "display_data"
    }
   ],
   "source": [
    "fig, ax = plt.subplots(ncols=1, figsize=(16, 8)) # Sample figsize in inches\n",
    "plt.hist(visitors.values, bins=50, log=True)\n",
    "plt.xlabel('Number of times a visitor performs an action on the site', fontsize=16)\n",
    "plt.ylabel('log(Count of displays per visitor)', fontsize=16)\n",
    "plt.show()"
   ]
  },
  {
   "cell_type": "markdown",
   "metadata": {},
   "source": [
    "Similarly, a notable majority of the visitors perform one action, i.e., `event`, in the e-commerce site once, about 71%, and almost everyone does it less than 10 times, about 98%.\n",
    "\n",
    "This information leads to potentially consider how many times a customer views items compared to adding them to the cart and buying. For example, as a counter of the amount of actions a customer will do to buy something or not (and focusing perhaps on the why the customer did not buy something)."
   ]
  },
  {
   "cell_type": "markdown",
   "metadata": {},
   "source": [
    "#### Date/time"
   ]
  },
  {
   "cell_type": "code",
   "execution_count": 31,
   "metadata": {},
   "outputs": [],
   "source": [
    "# timestamp is in UTC. It is not clear from the description of the dataset the exact timezone.\n",
    "# We try as it is, i.e., UTC, and we will see if we shift or not after plotting\n",
    "raw_events['hour'] = raw_events.timestamp.apply(lambda x: timestamp_to_hour(x.to_pydatetime(), timezone='US/Eastern'))"
   ]
  },
  {
   "cell_type": "code",
   "execution_count": 32,
   "metadata": {},
   "outputs": [
    {
     "name": "stderr",
     "output_type": "stream",
     "text": [
      "UserWarning: `Series.hist_series` defaulting to pandas implementation.\n"
     ]
    },
    {
     "data": {
      "image/png": "[encoded data removed]",
      "text/plain": [
       "<Figure size 1152x576 with 1 Axes>"
      ]
     },
     "metadata": {},
     "output_type": "display_data"
    }
   ],
   "source": [
    "fig, ax = plt.subplots(ncols=1, figsize=(16, 8)) # Sample figsize in inches\n",
    "raw_events.hour.hist(bins=np.linspace(-0.5, 23.5, 25), alpha=1, density=True)\n",
    "plt.xlim(-0.5, 23.5)\n",
    "plt.xlabel(\"Hour of the day\")\n",
    "plt.ylabel(\"Fraction of events\")\n",
    "plt.show()"
   ]
  },
  {
   "cell_type": "markdown",
   "metadata": {},
   "source": [
    "#### Properties"
   ]
  },
  {
   "cell_type": "code",
   "execution_count": 33,
   "metadata": {},
   "outputs": [
    {
     "name": "stderr",
     "output_type": "stream",
     "text": [
      "UserWarning: User-defined function verification is still under development in Modin. The function provided is not verified.\n",
      "UserWarning: `Series.value_counts` defaulting to pandas implementation.\n",
      "UserWarning: Distributing <class 'pandas.core.series.Series'> object. This may take some time.\n"
     ]
    },
    {
     "name": "stdout",
     "output_type": "stream",
     "text": [
      "ategories that appear less than    2 times: 7.1%\n",
      "ategories that appear less than    5 times: 14.61%\n",
      "ategories that appear less than   10 times: 21.8%\n",
      "ategories that appear less than   25 times: 32.57%\n",
      "ategories that appear less than   50 times: 42.61%\n",
      "ategories that appear less than  100 times: 56.0%\n",
      "ategories that appear less than  500 times: 84.57%\n",
      "ategories that appear less than 1000 times: 91.84%\n",
      "ategories that appear less than 5000 times: 99.35%\n"
     ]
    }
   ],
   "source": [
    "properties_categoryid = raw_items_properties[(raw_items_properties.property == 'categoryid')].drop_duplicates('itemid', keep='first')\n",
    "# properties_available = raw_items_properties[(raw_items_properties.property == 'available')]\n",
    "categories = properties_categoryid.value.value_counts()\n",
    "for i in [2, 5, 10, 25, 50, 100, 500, 1000, 5000]:\n",
    "    print('ategories that appear less than {:>4} times: {}%'.format(i, round((categories < i).mean() * 100, 2)))    "
   ]
  },
  {
   "cell_type": "code",
   "execution_count": 34,
   "metadata": {},
   "outputs": [
    {
     "data": {
      "image/png": "[encoded data removed]",
      "text/plain": [
       "<Figure size 1152x576 with 1 Axes>"
      ]
     },
     "metadata": {},
     "output_type": "display_data"
    }
   ],
   "source": [
    "fig, ax = plt.subplots(ncols=1, figsize=(16, 8)) # Sample figsize in inches\n",
    "plt.hist(categories.values, bins=50, log=True)\n",
    "plt.xlabel('Number of times a category appears', fontsize=16)\n",
    "plt.ylabel('log(Count of displays per category)', fontsize=16)\n",
    "plt.show()"
   ]
  },
  {
   "cell_type": "markdown",
   "metadata": {},
   "source": [
    "### A naive recommender\n",
    "\n",
    "A naive recommender for an item X could be one that suggests a subset of all the items that other customers have bought together with item X.\n",
    "\n",
    "Such recommender doesn't take into account much more than the chances of items being bought together in the realm of a customer within a considered period.<br>\n",
    "On the bright side, the recommender is independent of the customer's behaviour (i.e., the suggestions are independent from the number of purchases) because it relies solely on the item-to-item \"relationships\"."
   ]
  },
  {
   "cell_type": "code",
   "execution_count": 35,
   "metadata": {},
   "outputs": [],
   "source": [
    "# Naive recommender\n",
    "# Suggest n random items of a set of all other items bought together with the queried one by all users\n",
    "# Supports other actions like adding to the cart or viewing an item\n",
    "def items_to_item(events,\n",
    "                  itemid,\n",
    "                  actions='transaction'):\n",
    "    # Customers who bought some specific itemid: event == 'transaction' && transactionid != NaN\n",
    "    # Otherwise (event == 'view' || event == 'addtocart') && transactionid == NaN)\n",
    "    \n",
    "    def visitors_to_item(events, itemid, actions):\n",
    "        filtered_events_per_itemid = events[(events.itemid == itemid)]\n",
    "\n",
    "        if type(actions) is not list:\n",
    "            actions = [actions]\n",
    "            \n",
    "        # Create empty pd.DataFrame WITH structure\n",
    "        #visitors = filtered_events_per_itemid.iloc[0:0,:].copy()\n",
    "        visitors = {}\n",
    "        \n",
    "        for a in actions:\n",
    "            if a == 'transaction':\n",
    "                filtered_events_per_event = filtered_events_per_itemid[(filtered_events_per_itemid.event == a) &\n",
    "                                                                       (filtered_events_per_itemid.transactionid.notna())]\n",
    "            else:\n",
    "                filtered_events_per_event = filtered_events_per_itemid[(filtered_events_per_itemid.event == a) &\n",
    "                                                                       (filtered_events_per_itemid.transactionid.isna())]\n",
    "\n",
    "            visitors[a] = list(filtered_events_per_event.visitorid.unique())\n",
    "\n",
    "        return visitors\n",
    "    \n",
    "    visitors_list_per_event = visitors_to_item(events, itemid, actions)\n",
    "\n",
    "    items_lists = []\n",
    "    for action, visitors_list in visitors_list_per_event.items():\n",
    "        filtered_events_by_action = events[(events.event == action)]\n",
    "        if action == 'transaction':\n",
    "            filtered_events_by_action = filtered_events_by_action[(filtered_events_by_action.transactionid.notna())]\n",
    "        else:\n",
    "            filtered_events_by_action = filtered_events_by_action[(filtered_events_by_action.transactionid.isna())]\n",
    "            \n",
    "        items_lists_per_transaction = [list(filtered_events_by_action[(filtered_events_by_action.visitorid == visitorid)].itemid.unique()) for visitorid in visitors_list]\n",
    "        items_lists += items_lists_per_transaction\n",
    "    \n",
    "    items = set().union(*items_lists)\n",
    "    return list(items)"
   ]
  },
  {
   "cell_type": "code",
   "execution_count": 36,
   "metadata": {},
   "outputs": [
    {
     "name": "stderr",
     "output_type": "stream",
     "text": [
      "UserWarning: `Series.unique` defaulting to pandas implementation.\n"
     ]
    },
    {
     "data": {
      "text/plain": [
       "['380775',\n",
       " '15335',\n",
       " '400969',\n",
       " '105792',\n",
       " '80582',\n",
       " '302422',\n",
       " '237753',\n",
       " '12836',\n",
       " '200793',\n",
       " '25353',\n",
       " '317178']"
      ]
     },
     "execution_count": 36,
     "metadata": {},
     "output_type": "execute_result"
    }
   ],
   "source": [
    "itemid = '200793'\n",
    "actions=['transaction', 'addtocart']\n",
    "filtered_events = raw_events[(raw_events.date < str_to_date('2015-09-01'))]\n",
    "\n",
    "recommendations = items_to_item(filtered_events, itemid, actions)\n",
    "recommendations"
   ]
  },
  {
   "cell_type": "markdown",
   "metadata": {},
   "source": [
    "### A collaborative filtering recommender\n",
    "\n",
    "The solution that follows is based in matrix factorization.\n",
    "In an effort to consider all type of events, I have converted the `transaction` to a number and aggregated all transactions per `visitorid` within the considered period accounting for the weight of each type of `transaction` in the dateset for fairness.\n",
    "\n",
    "References: https://www.benfrederickson.com/matrix-factorization/ and improvements, https://www.benfrederickson.com/fast-implicit-matrix-factorization/"
   ]
  },
  {
   "cell_type": "code",
   "execution_count": 37,
   "metadata": {},
   "outputs": [],
   "source": [
    "# Filtering the events by date as stated (presumably due to training/validation/test dataset splits).\n",
    "# Note that such filtering is not adequate for matrix factorization approaches because there is not \n",
    "# really a training split in such approaches as they are trying to fill in the 'missing spots'\n",
    "filtered_events_by_date = raw_events[(raw_events.date < str_to_date('2015-09-01'))]"
   ]
  },
  {
   "cell_type": "code",
   "execution_count": 38,
   "metadata": {},
   "outputs": [],
   "source": [
    "# We could filter the events by type and choose those of type 'transaction' (i.e., actual purchases)\n",
    "# However, by doing this we ignore those visitors that do simply view and/or add items to the cart.\n",
    "# This implies a problem of cold start for those customers who have never bought anything, but this\n",
    "# is up to the semantics of the recommendations as well.\n",
    "# E.g., \"Others customers bought these other items\" vs. \"Others customers added these items to their cart\"\n",
    "filtered_events_by_action = filtered_events_by_date[(raw_events.event == 'transaction')]\n",
    "filtered_events = filtered_events_by_action[['visitorid', 'itemid', 'transactionid']]\n",
    "# And we simply convert the purchases to some kind of binary event\n",
    "filtered_events.transactionid = filtered_events.transactionid.apply(lambda x: 1 if x else 0)"
   ]
  },
  {
   "cell_type": "code",
   "execution_count": 39,
   "metadata": {},
   "outputs": [
    {
     "name": "stderr",
     "output_type": "stream",
     "text": [
      "UserWarning: Multi-column groupby is a new feature. Please report any bugs/issues to bug_reports@modin.org.\n",
      "UserWarning: `DataFrame.groupby_on_multiple_columns` defaulting to pandas implementation.\n",
      "UserWarning: `DataFrame.reset_index` defaulting to pandas implementation.\n",
      "UserWarning: Distributing <class 'pandas.core.frame.DataFrame'> object. This may take some time.\n"
     ]
    }
   ],
   "source": [
    "# Adding 'view' and 'addtocart' events in the events to recommend on based on a normalised weight\n",
    "# over all the events in the dataset (see https://www.kaggle.com/aafrin/retail-rocket-recommender-system-for-beginners)\n",
    "def get_normalised_group(group, statistics):\n",
    "    \n",
    "    def get_weight(x, statistics):\n",
    "        statistics_normalised = dict(statistics)\n",
    "        \n",
    "        total = sum(list(statistics_normalised.values()))\n",
    "\n",
    "        for k, v in statistics_normalised.items():\n",
    "            statistics_normalised[k] = statistics[k]/total\n",
    "            \n",
    "        return statistics_normalised[x]\n",
    "    \n",
    "    group_events = list(group.event)\n",
    "    \n",
    "    rating = 0\n",
    "    for e in group_events:\n",
    "        rating += get_weight(e, statistics)\n",
    "\n",
    "    return rating\n",
    "\n",
    "filtered_events_statistics = dict(filtered_events_by_date['event'].value_counts())\n",
    "# filtered_events = filtered_events_by_date.drop_duplicates(['visitorid', 'itemid', 'date']).groupby(['visitorid','itemid']).apply(get_normalised_group, statistics=filtered_events_statistics).reset_index()\n",
    "filtered_events = filtered_events_by_date.drop_duplicates(['visitorid', 'itemid', 'date'])\n",
    "filtered_events = filtered_events[['visitorid', 'itemid', 'event']]\n",
    "filtered_events = filtered_events.groupby(['visitorid','itemid']).apply(get_normalised_group, statistics=filtered_events_statistics).reset_index()"
   ]
  },
  {
   "cell_type": "code",
   "execution_count": 40,
   "metadata": {},
   "outputs": [
    {
     "data": {
      "text/html": [
       "<div>\n",
       "<style scoped>\n",
       "    .dataframe tbody tr th:only-of-type {\n",
       "        vertical-align: middle;\n",
       "    }\n",
       "\n",
       "    .dataframe tbody tr th {\n",
       "        vertical-align: top;\n",
       "    }\n",
       "\n",
       "    .dataframe thead th {\n",
       "        text-align: right;\n",
       "    }\n",
       "</style>\n",
       "<table border=\"1\" class=\"dataframe\">\n",
       "  <thead>\n",
       "    <tr style=\"text-align: right;\">\n",
       "      <th></th>\n",
       "      <th>visitorid</th>\n",
       "      <th>itemid</th>\n",
       "      <th>transactionid</th>\n",
       "    </tr>\n",
       "  </thead>\n",
       "  <tbody>\n",
       "    <tr>\n",
       "      <th>0</th>\n",
       "      <td>1</td>\n",
       "      <td>72028</td>\n",
       "      <td>0.966670</td>\n",
       "    </tr>\n",
       "    <tr>\n",
       "      <th>1</th>\n",
       "      <td>10</td>\n",
       "      <td>248766</td>\n",
       "      <td>0.966670</td>\n",
       "    </tr>\n",
       "    <tr>\n",
       "      <th>2</th>\n",
       "      <td>1000</td>\n",
       "      <td>248975</td>\n",
       "      <td>0.966670</td>\n",
       "    </tr>\n",
       "    <tr>\n",
       "      <th>3</th>\n",
       "      <td>10000</td>\n",
       "      <td>359491</td>\n",
       "      <td>0.966670</td>\n",
       "    </tr>\n",
       "    <tr>\n",
       "      <th>4</th>\n",
       "      <td>10000</td>\n",
       "      <td>401285</td>\n",
       "      <td>1.933339</td>\n",
       "    </tr>\n",
       "  </tbody>\n",
       "</table>\n",
       "</div>"
      ],
      "text/plain": [
       "  visitorid  itemid  transactionid\n",
       "0         1   72028       0.966670\n",
       "1        10  248766       0.966670\n",
       "2      1000  248975       0.966670\n",
       "3     10000  359491       0.966670\n",
       "4     10000  401285       1.933339"
      ]
     },
     "execution_count": 40,
     "metadata": {},
     "output_type": "execute_result"
    }
   ],
   "source": [
    "filtered_events.columns = [*filtered_events.columns[:-1], 'transactionid']\n",
    "filtered_events.head()"
   ]
  },
  {
   "cell_type": "code",
   "execution_count": 41,
   "metadata": {},
   "outputs": [
    {
     "data": {
      "text/html": [
       "<div>\n",
       "<style scoped>\n",
       "    .dataframe tbody tr th:only-of-type {\n",
       "        vertical-align: middle;\n",
       "    }\n",
       "\n",
       "    .dataframe tbody tr th {\n",
       "        vertical-align: top;\n",
       "    }\n",
       "\n",
       "    .dataframe thead th {\n",
       "        text-align: right;\n",
       "    }\n",
       "</style>\n",
       "<table border=\"1\" class=\"dataframe\">\n",
       "  <thead>\n",
       "    <tr style=\"text-align: right;\">\n",
       "      <th></th>\n",
       "      <th>transactionid</th>\n",
       "    </tr>\n",
       "  </thead>\n",
       "  <tbody>\n",
       "    <tr>\n",
       "      <th>count</th>\n",
       "      <td>1.905695e+06</td>\n",
       "    </tr>\n",
       "    <tr>\n",
       "      <th>mean</th>\n",
       "      <td>1.009373e+00</td>\n",
       "    </tr>\n",
       "    <tr>\n",
       "      <th>std</th>\n",
       "      <td>5.157814e-01</td>\n",
       "    </tr>\n",
       "    <tr>\n",
       "      <th>min</th>\n",
       "      <td>8.191190e-03</td>\n",
       "    </tr>\n",
       "    <tr>\n",
       "      <th>25%</th>\n",
       "      <td>9.666697e-01</td>\n",
       "    </tr>\n",
       "    <tr>\n",
       "      <th>50%</th>\n",
       "      <td>9.666697e-01</td>\n",
       "    </tr>\n",
       "    <tr>\n",
       "      <th>75%</th>\n",
       "      <td>9.666697e-01</td>\n",
       "    </tr>\n",
       "    <tr>\n",
       "      <th>max</th>\n",
       "      <td>1.140670e+02</td>\n",
       "    </tr>\n",
       "  </tbody>\n",
       "</table>\n",
       "</div>"
      ],
      "text/plain": [
       "       transactionid\n",
       "count   1.905695e+06\n",
       "mean    1.009373e+00\n",
       "std     5.157814e-01\n",
       "min     8.191190e-03\n",
       "25%     9.666697e-01\n",
       "50%     9.666697e-01\n",
       "75%     9.666697e-01\n",
       "max     1.140670e+02"
      ]
     },
     "execution_count": 41,
     "metadata": {},
     "output_type": "execute_result"
    }
   ],
   "source": [
    "filtered_events.describe()"
   ]
  },
  {
   "cell_type": "code",
   "execution_count": 42,
   "metadata": {},
   "outputs": [
    {
     "name": "stderr",
     "output_type": "stream",
     "text": [
      "UserWarning: `Series.unique` defaulting to pandas implementation.\n"
     ]
    }
   ],
   "source": [
    "users_index_map, index_users_map = remap_list(list(filtered_events.visitorid.unique()))\n",
    "items_index_map, index_items_map = remap_list(list(filtered_events.itemid.unique()))"
   ]
  },
  {
   "cell_type": "code",
   "execution_count": 43,
   "metadata": {},
   "outputs": [],
   "source": [
    "def create_ratings_matrix(events,\n",
    "                          user_col='visitorid',\n",
    "                          item_col='itemid',\n",
    "                          rating_col='transactionid',\n",
    "                          user_index=None,\n",
    "                          item_index=None,\n",
    "                          mode='coo'):\n",
    "\n",
    "    num_users = events[user_col].nunique()\n",
    "    num_items = events[item_col].nunique()\n",
    "    \n",
    "    if user_index:\n",
    "        users_index_map = user_index\n",
    "    else:\n",
    "        users_index_map, index_users_map = remap_list(list(events[user_col].unique()))\n",
    "        \n",
    "    if item_index:\n",
    "        items_index_map = item_index\n",
    "    else:\n",
    "        items_index_map, index_items_map = remap_list(list(events[item_col].unique()))\n",
    "    \n",
    "    \n",
    "    if mode == 'dok':\n",
    "        ratings = sparse.dok_matrix((num_users, num_items), dtype=events[rating_col].dtype)\n",
    "        \n",
    "        for row in events.itertuples(index=False):\n",
    "            i = users_index_map[row[user_col]]\n",
    "            j = items_index_map[row[item_col]]\n",
    "            v = row[raing_col]\n",
    "    \n",
    "            ratings[i, j] = v\n",
    "    elif mode == 'coo':\n",
    "        i = events[user_col].apply(lambda x: users_index_map[x])\n",
    "        j = events[item_col].apply(lambda x: items_index_map[x])\n",
    "        data = events[rating_col].values\n",
    "\n",
    "        ratings = sparse.coo_matrix((data, (i, j)), shape=(num_users, num_items))\n",
    "    else:\n",
    "        raise(\"Nope\")\n",
    "\n",
    "    return ratings, users_index_map, items_index_map"
   ]
  },
  {
   "cell_type": "code",
   "execution_count": 44,
   "metadata": {},
   "outputs": [
    {
     "data": {
      "text/plain": [
       "(1250856, 222982)"
      ]
     },
     "execution_count": 44,
     "metadata": {},
     "output_type": "execute_result"
    }
   ],
   "source": [
    "user_to_item_matrix, _, _ = create_ratings_matrix(filtered_events,\n",
    "                                                  user_index=users_index_map, \n",
    "                                                  item_index=items_index_map)\n",
    "user_to_item_matrix.shape"
   ]
  },
  {
   "cell_type": "code",
   "execution_count": 45,
   "metadata": {},
   "outputs": [
    {
     "name": "stderr",
     "output_type": "stream",
     "text": [
      "WARNING:root:OpenBLAS detected. Its highly recommend to set the environment variable 'export OPENBLAS_NUM_THREADS=1' to disable its internal multithreading\n"
     ]
    }
   ],
   "source": [
    "# Initialize the model(s)\n",
    "cf_als = implicit.als.AlternatingLeastSquares(factors=128,\n",
    "                                              regularization=1.5,\n",
    "                                              iterations=15,\n",
    "                                              calculate_training_loss=True)\n",
    "\n",
    "cf_approximate_als = implicit.approximate_als.NMSLibAlternatingLeastSquares(factors=128,\n",
    "                                                                            regularization=1.5,\n",
    "                                                                            iterations=15,\n",
    "                                                                            calculate_training_loss=True)\n",
    "\n",
    "cf_bpr = implicit.bpr.BayesianPersonalizedRanking(factors=128,\n",
    "                                                  learning_rate=1.5,\n",
    "                                                  regularization=1,\n",
    "                                                  iterations=75,\n",
    "                                                  verify_negative_samples=True)\n",
    "\n",
    "cf_lmf = implicit.lmf.LogisticMatrixFactorization(factors=128,\n",
    "                                                  learning_rate=0.1,\n",
    "                                                  regularization=1.5,\n",
    "                                                  iterations=5)\n",
    "\n"
   ]
  },
  {
   "cell_type": "code",
   "execution_count": 46,
   "metadata": {},
   "outputs": [
    {
     "data": {
      "application/vnd.jupyter.widget-view+json": {
       "model_id": "30abfacb020b42d6bd20e2035e4cb4ca",
       "version_major": 2,
       "version_minor": 0
      },
      "text/plain": [
       "HBox(children=(FloatProgress(value=0.0, max=15.0), HTML(value='')))"
      ]
     },
     "metadata": {},
     "output_type": "display_data"
    },
    {
     "name": "stdout",
     "output_type": "stream",
     "text": [
      "\n"
     ]
    }
   ],
   "source": [
    "# Train the model(s) on the transposed sparse matrix of user/item/[confidence|rating weights]\n",
    "item_to_user_matrix = user_to_item_matrix.T.tocsr()\n",
    "\n",
    "cf_als.fit(item_to_user_matrix, show_progress=True)\n",
    "# cf_bpr.fit(item_to_user_matrix, show_progress=True)\n",
    "# cf_lmf.fit(item_to_user_matrix, show_progress=True)\n",
    "\n",
    "# cf_approximate_als.fit(item_to_user_matrix, show_progress=True)"
   ]
  },
  {
   "cell_type": "code",
   "execution_count": 47,
   "metadata": {},
   "outputs": [
    {
     "data": {
      "text/plain": [
       "[(1407, 0.0005404296807055052),\n",
       " (351, 0.00031965440230175403),\n",
       " (12847, 0.00023763780022188928),\n",
       " (763, 0.00022060799617162468),\n",
       " (11857, 0.00018129208982128862),\n",
       " (657, 0.00014632314594394856),\n",
       " (901, 0.0001268716738396152),\n",
       " (10370, 0.00010526420976675356),\n",
       " (2483, 0.00010249147169301209),\n",
       " (6192, 0.00010033765800385133)]"
      ]
     },
     "execution_count": 47,
     "metadata": {},
     "output_type": "execute_result"
    }
   ],
   "source": [
    "# Recommend items for one user (note that both the user and the results correspond to the internal indexes)\n",
    "user_index=0\n",
    "n=100\n",
    "recommendations = cf_als.recommend(userid=user_index,\n",
    "                                   user_items=user_to_item_matrix.tocsr(),\n",
    "                                   N=n,\n",
    "                                   filter_already_liked_items=True,\n",
    "                                   recalculate_user=True)\n",
    "recommendations[:10]"
   ]
  },
  {
   "cell_type": "markdown",
   "metadata": {},
   "source": [
    "## Some functions for a potential API"
   ]
  },
  {
   "cell_type": "code",
   "execution_count": 48,
   "metadata": {},
   "outputs": [],
   "source": [
    "def get_single_user_implicit_recommendations(user_to_recommend,\n",
    "                                             trained_model,\n",
    "                                             users_items_matrix,\n",
    "                                             users_index_map,\n",
    "                                             index_items_map,\n",
    "                                             user_col='visitorid',\n",
    "                                             n=100):\n",
    "\n",
    "    user_recommendations = list()\n",
    "        \n",
    "    if user_to_recommend in users_index_map.keys():\n",
    "        user_index = users_index_map[user_to_recommend]\n",
    "        user_item_index_recommendations = model.recommend(userid=user_index,\n",
    "                                                              user_items=users_items_matrix.tocsr(),\n",
    "                                                              N=n,\n",
    "                                                              filter_already_liked_items=True,\n",
    "                                                              recalculate_user=True)\n",
    "        user_item_index_recommendations_sorted = sorted(user_item_index_recommendations,\n",
    "                                                            key=lambda x: x[1],\n",
    "                                                            reverse=True)\n",
    "        user_recommendations = list(map(lambda item_index: index_items_map[item_index],\n",
    "                                        [t[0] for t in user_item_index_recommendations_sorted]))\n",
    "        \n",
    "    return user_recommendations\n",
    "\n",
    "def get_implicit_recommendations(users_to_recommend,\n",
    "                                 trained_model,\n",
    "                                 users_items_matrix,\n",
    "                                 users_index_map,\n",
    "                                 index_items_map,\n",
    "                                 user_col='visitorid',\n",
    "                                 n=100):\n",
    "\n",
    "\n",
    "    \n",
    "    num_users_prediction = users_to_recommend[user_col].size\n",
    "    recommendations = {}\n",
    "    \n",
    "    start = time.time()\n",
    "    with tqdm.tqdm(total=num_users_prediction) as progress:\n",
    "        for user in list(users_to_recommend[user_col]):\n",
    "            recommendations[user] = get_single_user_implicit_recommendations(user,\n",
    "                                                                             trained_model,\n",
    "                                                                             users_items_matrix,\n",
    "                                                                             users_index_map,\n",
    "                                                                             index_items_map,\n",
    "                                                                             user_col,\n",
    "                                                                             n)\n",
    "    \n",
    "            progress.update(1)\n",
    "\n",
    "    return recommendations"
   ]
  },
  {
   "cell_type": "code",
   "execution_count": 49,
   "metadata": {},
   "outputs": [
    {
     "data": {
      "text/html": [
       "<div>\n",
       "<style scoped>\n",
       "    .dataframe tbody tr th:only-of-type {\n",
       "        vertical-align: middle;\n",
       "    }\n",
       "\n",
       "    .dataframe tbody tr th {\n",
       "        vertical-align: top;\n",
       "    }\n",
       "\n",
       "    .dataframe thead th {\n",
       "        text-align: right;\n",
       "    }\n",
       "</style>\n",
       "<table border=\"1\" class=\"dataframe\">\n",
       "  <thead>\n",
       "    <tr style=\"text-align: right;\">\n",
       "      <th></th>\n",
       "      <th>visitorid</th>\n",
       "    </tr>\n",
       "  </thead>\n",
       "  <tbody>\n",
       "    <tr>\n",
       "      <th>0</th>\n",
       "      <td>593408</td>\n",
       "    </tr>\n",
       "    <tr>\n",
       "      <th>1</th>\n",
       "      <td>71998</td>\n",
       "    </tr>\n",
       "    <tr>\n",
       "      <th>2</th>\n",
       "      <td>1403739</td>\n",
       "    </tr>\n",
       "    <tr>\n",
       "      <th>3</th>\n",
       "      <td>693797</td>\n",
       "    </tr>\n",
       "    <tr>\n",
       "      <th>4</th>\n",
       "      <td>1244757</td>\n",
       "    </tr>\n",
       "  </tbody>\n",
       "</table>\n",
       "</div>"
      ],
      "text/plain": [
       "  visitorid\n",
       "0    593408\n",
       "1     71998\n",
       "2   1403739\n",
       "3    693797\n",
       "4   1244757"
      ]
     },
     "execution_count": 49,
     "metadata": {},
     "output_type": "execute_result"
    }
   ],
   "source": [
    "# Configuration parameters...\n",
    "N = 100\n",
    "model = cf_als\n",
    "pred_users = raw_prediction_users.head(5)\n",
    "pred_users"
   ]
  },
  {
   "cell_type": "code",
   "execution_count": 50,
   "metadata": {},
   "outputs": [
    {
     "name": "stderr",
     "output_type": "stream",
     "text": [
      "100%|██████████| 5/5 [00:00<00:00, 17.99it/s]\n"
     ]
    },
    {
     "data": {
      "text/plain": [
       "{'593408': [],\n",
       " '71998': ['320130',\n",
       "  '438484',\n",
       "  '389158',\n",
       "  '122604',\n",
       "  '80435',\n",
       "  '227318',\n",
       "  '340375',\n",
       "  '463617',\n",
       "  '51650',\n",
       "  '218746',\n",
       "  '14671',\n",
       "  '337327',\n",
       "  '237952',\n",
       "  '455183',\n",
       "  '179834',\n",
       "  '108486',\n",
       "  '82586',\n",
       "  '49621',\n",
       "  '340825',\n",
       "  '395435',\n",
       "  '76196',\n",
       "  '90240',\n",
       "  '73602',\n",
       "  '109583',\n",
       "  '446820',\n",
       "  '9211',\n",
       "  '227211',\n",
       "  '137352',\n",
       "  '396042',\n",
       "  '33912',\n",
       "  '248614',\n",
       "  '46130',\n",
       "  '53151',\n",
       "  '334520',\n",
       "  '448453',\n",
       "  '262982',\n",
       "  '149275',\n",
       "  '194270',\n",
       "  '26228',\n",
       "  '33907',\n",
       "  '179601',\n",
       "  '446411',\n",
       "  '408203',\n",
       "  '103156',\n",
       "  '296619',\n",
       "  '98547',\n",
       "  '88904',\n",
       "  '56303',\n",
       "  '357054',\n",
       "  '243606',\n",
       "  '344071',\n",
       "  '124272',\n",
       "  '460188',\n",
       "  '383828',\n",
       "  '117206',\n",
       "  '393111',\n",
       "  '429094',\n",
       "  '374092',\n",
       "  '357583',\n",
       "  '439956',\n",
       "  '293139',\n",
       "  '231243',\n",
       "  '414460',\n",
       "  '184199',\n",
       "  '173313',\n",
       "  '17478',\n",
       "  '392074',\n",
       "  '461091',\n",
       "  '57788',\n",
       "  '416399',\n",
       "  '39561',\n",
       "  '394052',\n",
       "  '449571',\n",
       "  '384157',\n",
       "  '425951',\n",
       "  '386112',\n",
       "  '369565',\n",
       "  '271896',\n",
       "  '134118',\n",
       "  '363111',\n",
       "  '462188',\n",
       "  '304537',\n",
       "  '403',\n",
       "  '169260',\n",
       "  '210087',\n",
       "  '24734',\n",
       "  '358594',\n",
       "  '221638',\n",
       "  '183756',\n",
       "  '56323',\n",
       "  '377923',\n",
       "  '284463',\n",
       "  '206216',\n",
       "  '389172',\n",
       "  '316753',\n",
       "  '5470',\n",
       "  '146896',\n",
       "  '41803',\n",
       "  '253615',\n",
       "  '381503'],\n",
       " '1403739': [],\n",
       " '693797': [],\n",
       " '1244757': []}"
      ]
     },
     "execution_count": 50,
     "metadata": {},
     "output_type": "execute_result"
    }
   ],
   "source": [
    "recommendations = get_implicit_recommendations(pred_users,\n",
    "                                               model,\n",
    "                                               user_to_item_matrix,\n",
    "                                               users_index_map,\n",
    "                                               index_items_map,\n",
    "                                               n=N)\n",
    "recommendations\n",
    "# save_recommendations(recommendations, \"data/pong.csv\")"
   ]
  },
  {
   "cell_type": "code",
   "execution_count": null,
   "metadata": {},
   "outputs": [],
   "source": [
    "l = lambda user: get_single_user_implicit_recommendations(user,\n",
    "                                                       model,\n",
    "                                                       user_to_item_matrix,\n",
    "                                                       users_index_map,\n",
    "                                                       index_items_map,\n",
    "                                                       n=N)\n",
    "pred_users['recommendations'] = pred_users.visitorid.apply(l, axis=1)\n",
    "pred_users.head()"
   ]
  }
 ],
 "metadata": {
  "kernelspec": {
   "display_name": "Python 3",
   "language": "python",
   "name": "python3"
  },
  "language_info": {
   "codemirror_mode": {
    "name": "ipython",
    "version": 3
   },
   "file_extension": ".py",
   "mimetype": "text/x-python",
   "name": "python",
   "nbconvert_exporter": "python",
   "pygments_lexer": "ipython3",
   "version": "3.7.7"
  }
 },
 "nbformat": 4,
 "nbformat_minor": 4
}
